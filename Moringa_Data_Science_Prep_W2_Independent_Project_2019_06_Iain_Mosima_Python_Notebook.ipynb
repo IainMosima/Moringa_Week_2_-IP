{
  "nbformat": 4,
  "nbformat_minor": 0,
  "metadata": {
    "colab": {
      "name": "Moringa_Data_Science_Prep_W2_Independent_Project_2019_06_Iain_Mosima_Python_Notebook",
      "provenance": [],
      "collapsed_sections": [],
      "toc_visible": true
    },
    "kernelspec": {
      "name": "python3",
      "display_name": "Python 3"
    },
    "language_info": {
      "name": "python"
    }
  },
  "cells": [
    {
      "cell_type": "markdown",
      "metadata": {
        "id": "DUvmdSvyjW21"
      },
      "source": [
        "### **PYTHON PROGRAMMING**\n"
      ]
    },
    {
      "cell_type": "markdown",
      "metadata": {
        "id": "rR-W0LoXko3B"
      },
      "source": [
        "# **Overview**\n",
        "Your understanding of how python dictionaries work will later form the basis of its applications during data analysis with python. \n",
        "\n",
        "In this part of the Independent project, you will be required to perform the following procedures using the given contact_book dictionary. Initially, this dictionary will have the following contacts as keys and values.\n"
      ]
    },
    {
      "cell_type": "code",
      "metadata": {
        "id": "nKn07rl3jVxd"
      },
      "source": [
        "# Intial keys of the dictionary\n",
        "# Run this first then run the rest of the code:\n",
        "# \n",
        "contact_book = {'Parul' : 'parul@moringa.org',\n",
        "\n",
        "        'Thomas' : 'thomas@moringa.org',\n",
        "\n",
        "        'Ashley' : 'ashley@moringa.org',\n",
        "\n",
        "        'Kellen' : 'kellen@moringa.org',\n",
        "\n",
        "        'June' : 'june@moringa.org',\n",
        "\n",
        "        'Joseph' : 'joe@moringa.org',\n",
        "\n",
        "        'Lillian' : 'lillian@moringa.org',\n",
        "\n",
        "        'Arnold' : 'arnold@moringa.org' \n",
        "}"
      ],
      "execution_count": 2,
      "outputs": []
    },
    {
      "cell_type": "markdown",
      "metadata": {
        "id": "mpzOI8zzv8IJ"
      },
      "source": [
        "# **Question 1**: Delete a contact from the dictionary when the user specifies the its key "
      ]
    },
    {
      "cell_type": "code",
      "metadata": {
        "colab": {
          "base_uri": "https://localhost:8080/"
        },
        "id": "GfHJPz-WhOF8",
        "outputId": "abf9ce06-b8c4-4d5c-ed1a-d9e8bc0e5048"
      },
      "source": [
        "# Prompt the user a decision; if he/she wants to delete a record from the dictionary\n",
        "# \n",
        "decision = input(\"Would you like to delete a record from the dictionary(y/n): \")\n",
        "\n",
        "if decision == 'y': # Check which decision has input\n",
        "    print(\"To stop the program input 'done'\") # Directs the user on how to stop the program\n",
        "    \n",
        "    for i in range(10000): # A for loop which repeats the input process till a condition has been meet\n",
        "      print(\"This is the updated dictionary: \")\n",
        "      print(contact_book) # Display a list of records present\n",
        "      key = str(input(\"Input the person's name: \")) # prompt user for the key\n",
        "      if key == 'done': # decision to break the loop\n",
        "        break\n",
        "      else:\n",
        "        name = key # Store the key in a new variable\n",
        "        email = contact_book[key] # store the email deleted in a new varable\n",
        "        contact_book.pop(key) # if it hasn't been met if deletes it\n",
        "        print(\"The deleted record is: \" +name+ \" : \",email) # print the deleted record\n",
        "     \n",
        "elif decision == 'n': # decision checker\n",
        "    print(\"No action was taken\")\n",
        "else: # decision checker\n",
        "    print(\"Use decision are 'y' - yes and 'n' - no \")"
      ],
      "execution_count": 3,
      "outputs": [
        {
          "output_type": "stream",
          "text": [
            "Would you like to delete a record from the dictionary(y/n): y\n",
            "To stop the program input 'done'\n",
            "This is the updated dictionary: \n",
            "{'Parul': 'parul@moringa.org', 'Thomas': 'thomas@moringa.org', 'Ashley': 'ashley@moringa.org', 'Kellen': 'kellen@moringa.org', 'June': 'june@moringa.org', 'Joseph': 'joe@moringa.org', 'Lillian': 'lillian@moringa.org', 'Arnold': 'arnold@moringa.org'}\n",
            "Input the person's name: Kellen\n",
            "The deleted record is: Kellen :  kellen@moringa.org\n",
            "This is the updated dictionary: \n",
            "{'Parul': 'parul@moringa.org', 'Thomas': 'thomas@moringa.org', 'Ashley': 'ashley@moringa.org', 'June': 'june@moringa.org', 'Joseph': 'joe@moringa.org', 'Lillian': 'lillian@moringa.org', 'Arnold': 'arnold@moringa.org'}\n",
            "Input the person's name: done\n"
          ],
          "name": "stdout"
        }
      ]
    },
    {
      "cell_type": "markdown",
      "metadata": {
        "id": "KXZ1qT6k76PK"
      },
      "source": [
        "# **Question 2**: Print out the first 2 contacts"
      ]
    },
    {
      "cell_type": "code",
      "metadata": {
        "colab": {
          "base_uri": "https://localhost:8080/"
        },
        "id": "XrFdEde3-6qa",
        "outputId": "27e40fe0-11ac-4194-bf65-6489680a0599"
      },
      "source": [
        "# Previewing the dictionary\n",
        "print(contact_book)"
      ],
      "execution_count": 4,
      "outputs": [
        {
          "output_type": "stream",
          "text": [
            "{'Parul': 'parul@moringa.org', 'Thomas': 'thomas@moringa.org', 'Ashley': 'ashley@moringa.org', 'June': 'june@moringa.org', 'Joseph': 'joe@moringa.org', 'Lillian': 'lillian@moringa.org', 'Arnold': 'arnold@moringa.org'}\n"
          ],
          "name": "stdout"
        }
      ]
    },
    {
      "cell_type": "code",
      "metadata": {
        "colab": {
          "base_uri": "https://localhost:8080/"
        },
        "id": "59RNK85L75jv",
        "outputId": "8d3d2442-79f5-4b45-e2b1-0678e78da9b2"
      },
      "source": [
        "# Using the for loop and if statement to print the first 2 records\n",
        "# \n",
        "count = 0 # intialize the count to 0\n",
        "for x,y in contact_book.items(): # iterating through the dictionary using for loop\n",
        "  if count == 2: # check if the condition to break is met\n",
        "    break\n",
        "  else:\n",
        "    count+=1\n",
        "  print(x,':',y)"
      ],
      "execution_count": 5,
      "outputs": [
        {
          "output_type": "stream",
          "text": [
            "Parul : parul@moringa.org\n",
            "Thomas : thomas@moringa.org\n"
          ],
          "name": "stdout"
        }
      ]
    },
    {
      "cell_type": "markdown",
      "metadata": {
        "id": "RDyrrvj1AYl1"
      },
      "source": [
        "# **Question 3**: Display the total no. of contacts left in the dictionary."
      ]
    },
    {
      "cell_type": "code",
      "metadata": {
        "colab": {
          "base_uri": "https://localhost:8080/"
        },
        "id": "_9NPI3oLCSyV",
        "outputId": "a449d8e1-ec66-4f3a-83da-7af3ffb64718"
      },
      "source": [
        "# Previewing the dictionary\n",
        "print(contact_book)"
      ],
      "execution_count": 6,
      "outputs": [
        {
          "output_type": "stream",
          "text": [
            "{'Parul': 'parul@moringa.org', 'Thomas': 'thomas@moringa.org', 'Ashley': 'ashley@moringa.org', 'June': 'june@moringa.org', 'Joseph': 'joe@moringa.org', 'Lillian': 'lillian@moringa.org', 'Arnold': 'arnold@moringa.org'}\n"
          ],
          "name": "stdout"
        }
      ]
    },
    {
      "cell_type": "code",
      "metadata": {
        "colab": {
          "base_uri": "https://localhost:8080/"
        },
        "id": "shpZZMSbAU37",
        "outputId": "eeec4b02-3bf8-4fd2-952a-dfaf9b2164f9"
      },
      "source": [
        "# Using for ile loop to print the number of records\n",
        "count = 0 # intializing the record counter to 0\n",
        "for x,y in contact_book.items():  # iterating through the dictionary using for loop\n",
        "    count+=1\n",
        "print(\"The total number of contacts left in the dictionary is: \", count)"
      ],
      "execution_count": 7,
      "outputs": [
        {
          "output_type": "stream",
          "text": [
            "The total number of contacts left in the dictionary is:  7\n"
          ],
          "name": "stdout"
        }
      ]
    },
    {
      "cell_type": "markdown",
      "metadata": {
        "id": "0MrCpSfOCoK4"
      },
      "source": [
        "# **Question 4**: Add 2 new contacts in the dictionary"
      ]
    },
    {
      "cell_type": "code",
      "metadata": {
        "colab": {
          "base_uri": "https://localhost:8080/"
        },
        "id": "3gdffT3ACg6b",
        "outputId": "af5d2683-d3c1-47d4-c1a7-821428cb9b77"
      },
      "source": [
        "# Using the for loop to update the 2 new contacts in the dictionary\n",
        "print(\"====Program to add two new contacts in the dictionary====\")\n",
        "count  = 1\n",
        "for i in range(2):\n",
        "  print(\"Enter record \"+str(count)+ \" details\")\n",
        "  name = str(input(\"Input the contact's name: \"))\n",
        "  email = str(input(\"Input the contact's email address: \"))\n",
        "  contact_book[name] = email\n",
        "else:\n",
        "  print(\"The 2 new records have been updated in the dictionary\")\n",
        "  print(\"The updated contact book is: \")\n",
        "  print(contact_book)"
      ],
      "execution_count": 8,
      "outputs": [
        {
          "output_type": "stream",
          "text": [
            "====Program to add two new contacts in the dictionary====\n",
            "Enter record 1 details\n",
            "Input the contact's name: Iain Mosima\n",
            "Input the contact's email address: mosimaiain@gmal.com\n",
            "Enter record 1 details\n",
            "Input the contact's name: Bruce Wayne\n",
            "Input the contact's email address: brucewayne@outlook.com\n",
            "The 2 new records have been updated in the dictionary\n",
            "The updated contact book is: \n",
            "{'Parul': 'parul@moringa.org', 'Thomas': 'thomas@moringa.org', 'Ashley': 'ashley@moringa.org', 'June': 'june@moringa.org', 'Joseph': 'joe@moringa.org', 'Lillian': 'lillian@moringa.org', 'Arnold': 'arnold@moringa.org', 'Iain Mosima': 'mosimaiain@gmal.com', 'Bruce Wayne': 'brucewayne@outlook.com'}\n"
          ],
          "name": "stdout"
        }
      ]
    },
    {
      "cell_type": "markdown",
      "metadata": {
        "id": "rwhTX2B3GafZ"
      },
      "source": [
        "# **Question 5**: Print out all the contacts"
      ]
    },
    {
      "cell_type": "code",
      "metadata": {
        "colab": {
          "base_uri": "https://localhost:8080/"
        },
        "id": "cVruokKQGhWU",
        "outputId": "c506460f-c6b5-4704-d045-8c46ed8631f6"
      },
      "source": [
        "# Using for loop to iterate through the dictionary and print out the contact \n",
        "# together with its email address\n",
        "\n",
        "print(\"Name         Email Address\") # column names\n",
        "for x,y in contact_book.items(): # iterating through the dictionary using for loop\n",
        "  print(x,':',y)"
      ],
      "execution_count": 9,
      "outputs": [
        {
          "output_type": "stream",
          "text": [
            "Name         Email Address\n",
            "Parul : parul@moringa.org\n",
            "Thomas : thomas@moringa.org\n",
            "Ashley : ashley@moringa.org\n",
            "June : june@moringa.org\n",
            "Joseph : joe@moringa.org\n",
            "Lillian : lillian@moringa.org\n",
            "Arnold : arnold@moringa.org\n",
            "Iain Mosima : mosimaiain@gmal.com\n",
            "Bruce Wayne : brucewayne@outlook.com\n"
          ],
          "name": "stdout"
        }
      ]
    }
  ]
}
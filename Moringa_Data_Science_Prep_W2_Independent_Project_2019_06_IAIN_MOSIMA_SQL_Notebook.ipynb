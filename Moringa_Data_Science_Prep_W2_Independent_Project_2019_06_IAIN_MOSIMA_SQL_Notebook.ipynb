{
  "nbformat": 4,
  "nbformat_minor": 0,
  "metadata": {
    "colab": {
      "name": "Moringa_Data_Science_Prep_W2_Independent_Project_2019_06_IAIN_MOSIMA_SQL_Notebook",
      "provenance": [],
      "collapsed_sections": [],
      "toc_visible": true
    },
    "kernelspec": {
      "name": "python3",
      "display_name": "Python 3"
    },
    "language_info": {
      "name": "python"
    }
  },
  "cells": [
    {
      "cell_type": "markdown",
      "metadata": {
        "id": "0sgUALrCX99N"
      },
      "source": [
        "# **SQL PRORAMMING**"
      ]
    },
    {
      "cell_type": "markdown",
      "metadata": {
        "id": "RMsV4v77YJrQ"
      },
      "source": [
        "**Overview**\n",
        "\n",
        "In this part of the assessment, you will act as a Data analyst to answer a research question on the US elections. \n",
        "\n",
        "First, will be required to write a Data Report on the process that will undertake while working on the given research problem. Using the CRISP-DM Methodology,  you will document the various stages of the data science lifecycle for the given research problem while also providing your recommendation.\n",
        "\n",
        "You have been provided with a detailed description of what you will be expected to do below.\n",
        "\n",
        "Do remember that complex tasks that may seem hard at first can often be broken down into a sequence of simple tasks, and there are workarounds to do what first seems “impossible” with a succession of known operations.\n",
        "\n",
        "**Problem Description** \n",
        "\n",
        "You have been asked to help a candidate to become US president. The winner of the election will be the candidate winning the most grand electors. \n",
        "\n",
        "Grand electors are attributed at the state level: in each of the 51 states, there is a given number of grand electors to win (roughly, but not exactly, proportional to the size of the state) and the presidential candidate receiving the most local votes wins ALL the Grand Electors in that state.\n",
        "\n",
        "Because the number of grand electors is not exactly proportional to the population, some states can be prioritized to increase the return on investment of the campaign. We assume here there are only 2 candidates, and no history (no trend of certain states to vote for a particular candidate or party). Hence, each vote is equally \"expensive\" to get, but some states grant more grand elector per capita.\n",
        "\n",
        "You are provided with 2 tables: one giving the number of Grand Electors per state, the other the population per state.\n",
        "\n",
        "You are asked to identify the states that should be prioritized to win the election, with a smart but simple algorithm (brute force computation of all possibilities to find the absolute optimum is not accepted, as it would be to computationally expensive). It is ok not to find the overall optimum, we just want a strategy that makes sense.\n",
        "\n",
        "(This is of course a very simplistic view of reality, but it is a nice starting point to play with data and analyze possibilities).\n",
        "\n",
        "First take a few minutes to think about what you need to do. Steps will be suggested hereafter, but a big part of the data scientist's job is to identify the flow of operations when being asked a practical question, so it is important you start exercising on that in addition to programming.\n",
        "\n",
        "Here is what we are suggesting to do: we will rank states by decreasing number of grand electors per capita. The first states in the list will be the most valuable (you get a large number of grand electors by convincing a small number of people to vote for you). We will target all the states at the top of the list until the cumulative sum (also called running total) of grand electors won is larger than half the total number of Grand Electors in the country.\n",
        "\n",
        "To do that, we need (you are allowed to create as many intermediary tables as you want, to keep queries short):\n",
        "\n",
        "1. To join the 2 tables:\n",
        "   * You notice States are not capitalized the same way in both tables (one is  in uppercase letters, the other not), so you will first need to convert all to uppercase, for instance.\n",
        "   * Now you can join the tables on the state key.\n",
        "\n",
        "2. Your boss wants you to change the name of the \"District of Columbia\" state to its short version \"DC\". Please do that.\n",
        "3. To compute the ratio between the number of grand electors and the population. Please create a new column with that ratio.\n",
        "4. To order the states by decreasing ratio of Grand Electors per capita. That will make our priority list.\n",
        "5. To compute the running total of Grand Electors in that sorted list.\n",
        "   * Hint: you can get inspiration from here to compute a running total from here:  https://stackoverflow.com/questions/21382766/cumulative-summing-values-in-sqlite\n",
        "6. Independently, to compute the half of the total of Grand Electors overall (in the whole country):\n",
        "  * This is the threshold we need to reach for winning the presidential election.\n",
        "7. To filter our sorted list of states in order to keep only the (top) ones enabling us to reach the computed threshold. (the other states can be ignored). That is our target list.\n",
        "   * Hint: You can do that in 2 steps:\n",
        "       * Select all the states for which the running total is below or equal to the threshold.\n",
        "       * Add the first state for which the running total is larger than the threshold.\n",
        "\n",
        "Can you draw some conclusions from the result? Is it in line with your expectations? How many states do you end up with in the target list? Is it a small or a large number? Do you think it would be a good recommendation to target those states?    "
      ]
    },
    {
      "cell_type": "markdown",
      "metadata": {
        "id": "v5OcGcyNZ2l4"
      },
      "source": [
        "**Datasets**\n",
        "\n",
        "Below are two datasets that can be considered for research:\n",
        "\n",
        " 1. Grand electors by State. [link text](https://drive.google.com/a/moringaschool.com/file/d/1AuPlNXKjmEdRTLGqKbP-OP1XZ5UQPIPw/view?usp=sharing)\n",
        " 2. Population by State. [link text](https://drive.google.com/a/moringaschool.com/file/d/1VKt_hF2pRqPxcNb1DKotkVXWNd2HX_KL/view?usp=sharing)"
      ]
    },
    {
      "cell_type": "markdown",
      "metadata": {
        "id": "vuPYNZDyqMFO"
      },
      "source": [
        "# **1.0 CONNECTING TO THE DATABASE**"
      ]
    },
    {
      "cell_type": "code",
      "metadata": {
        "colab": {
          "base_uri": "https://localhost:8080/",
          "height": 69
        },
        "id": "N_Ula2z0pekK",
        "outputId": "ffd31216-5be5-420b-fab0-327aa2698808"
      },
      "source": [
        "# loading the sql extension into the environment\n",
        "%load_ext sql\n",
        "# connect into the sqlite database memory\n",
        "%sql sqlite://"
      ],
      "execution_count": 568,
      "outputs": [
        {
          "output_type": "stream",
          "text": [
            "The sql extension is already loaded. To reload it, use:\n",
            "  %reload_ext sql\n"
          ],
          "name": "stdout"
        },
        {
          "output_type": "execute_result",
          "data": {
            "application/vnd.google.colaboratory.intrinsic+json": {
              "type": "string"
            },
            "text/plain": [
              "'Connected: @None'"
            ]
          },
          "metadata": {
            "tags": []
          },
          "execution_count": 568
        }
      ]
    },
    {
      "cell_type": "code",
      "metadata": {
        "id": "xZV_EWXjpWG6"
      },
      "source": [
        "# Import pands library into the environment\n",
        "import pandas as pd"
      ],
      "execution_count": 569,
      "outputs": []
    },
    {
      "cell_type": "markdown",
      "metadata": {
        "id": "RiM4i90jqbIR"
      },
      "source": [
        "# **2.0 Loading the datasets**"
      ]
    },
    {
      "cell_type": "code",
      "metadata": {
        "colab": {
          "base_uri": "https://localhost:8080/",
          "height": 225
        },
        "id": "VVZ_lXvaqirt",
        "outputId": "491d21f4-ca3b-48b8-e75c-484973f4e647"
      },
      "source": [
        "# loading the Grand electors by State dataset into the environment\n",
        "with open('/content/GrandElectors_by_state.csv','r') as f:\n",
        "  grand_electors = pd.read_csv(f, index_col = 0, encoding = 'utf-8')\n",
        "%sql DROP TABLE if EXISTS grand_electors;\n",
        "%sql PERSIST grand_electors;\n",
        "%sql SELECT * FROM grand_electors LIMIT 5;"
      ],
      "execution_count": 570,
      "outputs": [
        {
          "output_type": "stream",
          "text": [
            " * sqlite://\n",
            "Done.\n",
            " * sqlite://\n",
            " * sqlite://\n",
            "Done.\n"
          ],
          "name": "stdout"
        },
        {
          "output_type": "execute_result",
          "data": {
            "text/html": [
              "<table>\n",
              "    <thead>\n",
              "        <tr>\n",
              "            <th>State</th>\n",
              "            <th>GrandElectors</th>\n",
              "        </tr>\n",
              "    </thead>\n",
              "    <tbody>\n",
              "        <tr>\n",
              "            <td>Alabama</td>\n",
              "            <td>9</td>\n",
              "        </tr>\n",
              "        <tr>\n",
              "            <td>Alaska</td>\n",
              "            <td>3</td>\n",
              "        </tr>\n",
              "        <tr>\n",
              "            <td>Arizona</td>\n",
              "            <td>11</td>\n",
              "        </tr>\n",
              "        <tr>\n",
              "            <td>Arkansas</td>\n",
              "            <td>6</td>\n",
              "        </tr>\n",
              "        <tr>\n",
              "            <td>California</td>\n",
              "            <td>55</td>\n",
              "        </tr>\n",
              "    </tbody>\n",
              "</table>"
            ],
            "text/plain": [
              "[('Alabama', 9),\n",
              " ('Alaska', 3),\n",
              " ('Arizona', 11),\n",
              " ('Arkansas', 6),\n",
              " ('California', 55)]"
            ]
          },
          "metadata": {
            "tags": []
          },
          "execution_count": 570
        }
      ]
    },
    {
      "cell_type": "code",
      "metadata": {
        "colab": {
          "base_uri": "https://localhost:8080/",
          "height": 225
        },
        "id": "7OygRXI8rb4j",
        "outputId": "125d28e5-7541-40f1-8d82-3e9abd413fcc"
      },
      "source": [
        "# loading the Population by State dataset into the environment\n",
        "with open('/content/Population_by_state.csv','r') as f:\n",
        "  population = pd.read_csv(f, index_col = 0, encoding = 'utf-8')\n",
        "%sql DROP TABLE if EXISTS population;\n",
        "%sql PERSIST population;\n",
        "%sql SELECT * FROM population LIMIT 5;"
      ],
      "execution_count": 571,
      "outputs": [
        {
          "output_type": "stream",
          "text": [
            " * sqlite://\n",
            "Done.\n",
            " * sqlite://\n",
            " * sqlite://\n",
            "Done.\n"
          ],
          "name": "stdout"
        },
        {
          "output_type": "execute_result",
          "data": {
            "text/html": [
              "<table>\n",
              "    <thead>\n",
              "        <tr>\n",
              "            <th>State</th>\n",
              "            <th>Population</th>\n",
              "        </tr>\n",
              "    </thead>\n",
              "    <tbody>\n",
              "        <tr>\n",
              "            <td>CALIFORNIA</td>\n",
              "            <td>39144818</td>\n",
              "        </tr>\n",
              "        <tr>\n",
              "            <td>TEXAS</td>\n",
              "            <td>27469114</td>\n",
              "        </tr>\n",
              "        <tr>\n",
              "            <td>FLORIDA</td>\n",
              "            <td>20271272</td>\n",
              "        </tr>\n",
              "        <tr>\n",
              "            <td>NEW YORK</td>\n",
              "            <td>19795791</td>\n",
              "        </tr>\n",
              "        <tr>\n",
              "            <td>ILLINOIS</td>\n",
              "            <td>12859995</td>\n",
              "        </tr>\n",
              "    </tbody>\n",
              "</table>"
            ],
            "text/plain": [
              "[('CALIFORNIA', 39144818),\n",
              " ('TEXAS', 27469114),\n",
              " ('FLORIDA', 20271272),\n",
              " ('NEW YORK', 19795791),\n",
              " ('ILLINOIS', 12859995)]"
            ]
          },
          "metadata": {
            "tags": []
          },
          "execution_count": 571
        }
      ]
    },
    {
      "cell_type": "markdown",
      "metadata": {
        "id": "pD-PRymRvOeL"
      },
      "source": [
        "# **3.0 Cleaning the Data**"
      ]
    },
    {
      "cell_type": "code",
      "metadata": {
        "colab": {
          "base_uri": "https://localhost:8080/",
          "height": 191
        },
        "id": "A7zn4x8VvRFG",
        "outputId": "35642113-c0c4-4c3f-a734-d87dd37a70c3"
      },
      "source": [
        "# Convert the data in state column of the grand_electors dataset into \n",
        "# upper case to march that one in the population dataset\n",
        "%%sql\n",
        "UPDATE grand_electors\n",
        "SET State = UPPER(State);\n",
        "SELECT * FROM grand_electors LIMIT 5;"
      ],
      "execution_count": 572,
      "outputs": [
        {
          "output_type": "stream",
          "text": [
            " * sqlite://\n",
            "51 rows affected.\n",
            "Done.\n"
          ],
          "name": "stdout"
        },
        {
          "output_type": "execute_result",
          "data": {
            "text/html": [
              "<table>\n",
              "    <thead>\n",
              "        <tr>\n",
              "            <th>State</th>\n",
              "            <th>GrandElectors</th>\n",
              "        </tr>\n",
              "    </thead>\n",
              "    <tbody>\n",
              "        <tr>\n",
              "            <td>ALABAMA</td>\n",
              "            <td>9</td>\n",
              "        </tr>\n",
              "        <tr>\n",
              "            <td>ALASKA</td>\n",
              "            <td>3</td>\n",
              "        </tr>\n",
              "        <tr>\n",
              "            <td>ARIZONA</td>\n",
              "            <td>11</td>\n",
              "        </tr>\n",
              "        <tr>\n",
              "            <td>ARKANSAS</td>\n",
              "            <td>6</td>\n",
              "        </tr>\n",
              "        <tr>\n",
              "            <td>CALIFORNIA</td>\n",
              "            <td>55</td>\n",
              "        </tr>\n",
              "    </tbody>\n",
              "</table>"
            ],
            "text/plain": [
              "[('ALABAMA', 9),\n",
              " ('ALASKA', 3),\n",
              " ('ARIZONA', 11),\n",
              " ('ARKANSAS', 6),\n",
              " ('CALIFORNIA', 55)]"
            ]
          },
          "metadata": {
            "tags": []
          },
          "execution_count": 572
        }
      ]
    },
    {
      "cell_type": "markdown",
      "metadata": {
        "id": "xjByhPk5_aON"
      },
      "source": [
        "**Changing the name of the \"District of Columbia\" state to its short version \"DC\". Please do that.**"
      ]
    },
    {
      "cell_type": "code",
      "metadata": {
        "colab": {
          "base_uri": "https://localhost:8080/",
          "height": 110
        },
        "id": "BqloLD5C_Qhy",
        "outputId": "1dc41e76-8fe2-461b-e129-f16762f8ad29"
      },
      "source": [
        "# For the population dataset\n",
        "%%sql\n",
        "UPDATE population\n",
        "SET State = 'DC'\n",
        "WHERE State = 'DISTRICT OF COLUMBIA';\n",
        "SELECT * FROM population WHERE State = 'DC';"
      ],
      "execution_count": 573,
      "outputs": [
        {
          "output_type": "stream",
          "text": [
            " * sqlite://\n",
            "1 rows affected.\n",
            "Done.\n"
          ],
          "name": "stdout"
        },
        {
          "output_type": "execute_result",
          "data": {
            "text/html": [
              "<table>\n",
              "    <thead>\n",
              "        <tr>\n",
              "            <th>State</th>\n",
              "            <th>Population</th>\n",
              "        </tr>\n",
              "    </thead>\n",
              "    <tbody>\n",
              "        <tr>\n",
              "            <td>DC</td>\n",
              "            <td>672228</td>\n",
              "        </tr>\n",
              "    </tbody>\n",
              "</table>"
            ],
            "text/plain": [
              "[('DC', 672228)]"
            ]
          },
          "metadata": {
            "tags": []
          },
          "execution_count": 573
        }
      ]
    },
    {
      "cell_type": "code",
      "metadata": {
        "colab": {
          "base_uri": "https://localhost:8080/",
          "height": 110
        },
        "id": "MXl0r9vpAE7B",
        "outputId": "e08d7655-3766-4afc-e2e0-c073d66131a1"
      },
      "source": [
        "# For the grand_electors dataset\n",
        "%%sql\n",
        "UPDATE grand_electors\n",
        "SET State = 'DC'\n",
        "WHERE State = 'DISTRICT OF COLUMBIA';\n",
        "SELECT * FROM grand_electors WHERE State = 'DC';"
      ],
      "execution_count": 574,
      "outputs": [
        {
          "output_type": "stream",
          "text": [
            " * sqlite://\n",
            "1 rows affected.\n",
            "Done.\n"
          ],
          "name": "stdout"
        },
        {
          "output_type": "execute_result",
          "data": {
            "text/html": [
              "<table>\n",
              "    <thead>\n",
              "        <tr>\n",
              "            <th>State</th>\n",
              "            <th>GrandElectors</th>\n",
              "        </tr>\n",
              "    </thead>\n",
              "    <tbody>\n",
              "        <tr>\n",
              "            <td>DC</td>\n",
              "            <td>3</td>\n",
              "        </tr>\n",
              "    </tbody>\n",
              "</table>"
            ],
            "text/plain": [
              "[('DC', 3)]"
            ]
          },
          "metadata": {
            "tags": []
          },
          "execution_count": 574
        }
      ]
    },
    {
      "cell_type": "markdown",
      "metadata": {
        "id": "fxLsPogH3ef3"
      },
      "source": [
        "# **4.0 Joining the two tables**"
      ]
    },
    {
      "cell_type": "markdown",
      "metadata": {
        "id": "GVTXHU4b6yVZ"
      },
      "source": [
        "First check which states don't exist in both the datasets"
      ]
    },
    {
      "cell_type": "code",
      "metadata": {
        "colab": {
          "base_uri": "https://localhost:8080/",
          "height": 73
        },
        "id": "Zzy7MZ2p6vJu",
        "outputId": "1e23ae89-082b-49c6-8c45-fa50b529e75b"
      },
      "source": [
        "# Which state exist only once in both datasets\n",
        "%%sql\n",
        "SELECT State FROM grand_electors\n",
        "WHERE NOT EXISTS (SELECT * FROM population WHERE grand_electors.State = population.State);"
      ],
      "execution_count": 575,
      "outputs": [
        {
          "output_type": "stream",
          "text": [
            " * sqlite://\n",
            "Done.\n"
          ],
          "name": "stdout"
        },
        {
          "output_type": "execute_result",
          "data": {
            "text/html": [
              "<table>\n",
              "    <thead>\n",
              "        <tr>\n",
              "            <th>State</th>\n",
              "        </tr>\n",
              "    </thead>\n",
              "    <tbody>\n",
              "    </tbody>\n",
              "</table>"
            ],
            "text/plain": [
              "[]"
            ]
          },
          "metadata": {
            "tags": []
          },
          "execution_count": 575
        }
      ]
    },
    {
      "cell_type": "markdown",
      "metadata": {
        "id": "CjJ415JR7BhJ"
      },
      "source": [
        "The preview how the joined data will look like"
      ]
    },
    {
      "cell_type": "code",
      "metadata": {
        "colab": {
          "base_uri": "https://localhost:8080/",
          "height": 174
        },
        "id": "yo-LWhms3j3h",
        "outputId": "40b8b832-9a18-46fc-92bb-77f6385abe92"
      },
      "source": [
        "%%sql\n",
        "SELECT grand_electors.State,GrandElectors, population.Population FROM grand_electors\n",
        "INNER JOIN population ON  grand_electors.State = population.State LIMIT 5;"
      ],
      "execution_count": 576,
      "outputs": [
        {
          "output_type": "stream",
          "text": [
            " * sqlite://\n",
            "Done.\n"
          ],
          "name": "stdout"
        },
        {
          "output_type": "execute_result",
          "data": {
            "text/html": [
              "<table>\n",
              "    <thead>\n",
              "        <tr>\n",
              "            <th>State</th>\n",
              "            <th>GrandElectors</th>\n",
              "            <th>Population</th>\n",
              "        </tr>\n",
              "    </thead>\n",
              "    <tbody>\n",
              "        <tr>\n",
              "            <td>ALABAMA</td>\n",
              "            <td>9</td>\n",
              "            <td>4858979</td>\n",
              "        </tr>\n",
              "        <tr>\n",
              "            <td>ALASKA</td>\n",
              "            <td>3</td>\n",
              "            <td>738432</td>\n",
              "        </tr>\n",
              "        <tr>\n",
              "            <td>ARIZONA</td>\n",
              "            <td>11</td>\n",
              "            <td>6828065</td>\n",
              "        </tr>\n",
              "        <tr>\n",
              "            <td>ARKANSAS</td>\n",
              "            <td>6</td>\n",
              "            <td>2978204</td>\n",
              "        </tr>\n",
              "        <tr>\n",
              "            <td>CALIFORNIA</td>\n",
              "            <td>55</td>\n",
              "            <td>39144818</td>\n",
              "        </tr>\n",
              "    </tbody>\n",
              "</table>"
            ],
            "text/plain": [
              "[('ALABAMA', 9, 4858979),\n",
              " ('ALASKA', 3, 738432),\n",
              " ('ARIZONA', 11, 6828065),\n",
              " ('ARKANSAS', 6, 2978204),\n",
              " ('CALIFORNIA', 55, 39144818)]"
            ]
          },
          "metadata": {
            "tags": []
          },
          "execution_count": 576
        }
      ]
    },
    {
      "cell_type": "markdown",
      "metadata": {
        "id": "v4GGzFeY7Lu2"
      },
      "source": [
        "# **4.1 Creating a new table**"
      ]
    },
    {
      "cell_type": "code",
      "metadata": {
        "colab": {
          "base_uri": "https://localhost:8080/",
          "height": 90
        },
        "id": "YWjUU18P7K7l",
        "outputId": "849dbb71-fe75-4da8-a77c-3095a9d5e3a5"
      },
      "source": [
        "# using the function 'CREATE TABLE' to come up with a new table\n",
        "# known as merged_data\n",
        "# \n",
        "%%sql\n",
        "CREATE TABLE merged_data (\n",
        "    State char,\n",
        "    GrandElectors int,\n",
        "    Population int\n",
        ");\n",
        "SELECT * FROM merged_data;"
      ],
      "execution_count": 577,
      "outputs": [
        {
          "output_type": "stream",
          "text": [
            " * sqlite://\n",
            "Done.\n",
            "Done.\n"
          ],
          "name": "stdout"
        },
        {
          "output_type": "execute_result",
          "data": {
            "text/html": [
              "<table>\n",
              "    <thead>\n",
              "        <tr>\n",
              "            <th>State</th>\n",
              "            <th>GrandElectors</th>\n",
              "            <th>Population</th>\n",
              "        </tr>\n",
              "    </thead>\n",
              "    <tbody>\n",
              "    </tbody>\n",
              "</table>"
            ],
            "text/plain": [
              "[]"
            ]
          },
          "metadata": {
            "tags": []
          },
          "execution_count": 577
        }
      ]
    },
    {
      "cell_type": "markdown",
      "metadata": {
        "id": "lJ6SHWiH9qCw"
      },
      "source": [
        "Copy the contents from joinig data quey into the new table"
      ]
    },
    {
      "cell_type": "code",
      "metadata": {
        "colab": {
          "base_uri": "https://localhost:8080/"
        },
        "id": "zpmBfaF09pOi",
        "outputId": "148253b6-c3b1-484c-8998-5227bfde930e"
      },
      "source": [
        "%%sql\n",
        "INSERT INTO merged_data SELECT grand_electors.State,GrandElectors, population.Population FROM grand_electors\n",
        "INNER JOIN population ON  grand_electors.State = population.State;"
      ],
      "execution_count": 578,
      "outputs": [
        {
          "output_type": "stream",
          "text": [
            " * sqlite://\n",
            "51 rows affected.\n"
          ],
          "name": "stdout"
        },
        {
          "output_type": "execute_result",
          "data": {
            "text/plain": [
              "[]"
            ]
          },
          "metadata": {
            "tags": []
          },
          "execution_count": 578
        }
      ]
    },
    {
      "cell_type": "code",
      "metadata": {
        "colab": {
          "base_uri": "https://localhost:8080/",
          "height": 174
        },
        "id": "bkJUz-Ih9-0D",
        "outputId": "466c2ed2-d93e-468b-ab93-a17dba13be22"
      },
      "source": [
        "# previewing the data in the new table\n",
        "%%sql\n",
        "SELECT * FROM merged_data LIMIT 5;"
      ],
      "execution_count": 579,
      "outputs": [
        {
          "output_type": "stream",
          "text": [
            " * sqlite://\n",
            "Done.\n"
          ],
          "name": "stdout"
        },
        {
          "output_type": "execute_result",
          "data": {
            "text/html": [
              "<table>\n",
              "    <thead>\n",
              "        <tr>\n",
              "            <th>State</th>\n",
              "            <th>GrandElectors</th>\n",
              "            <th>Population</th>\n",
              "        </tr>\n",
              "    </thead>\n",
              "    <tbody>\n",
              "        <tr>\n",
              "            <td>ALABAMA</td>\n",
              "            <td>9</td>\n",
              "            <td>4858979</td>\n",
              "        </tr>\n",
              "        <tr>\n",
              "            <td>ALASKA</td>\n",
              "            <td>3</td>\n",
              "            <td>738432</td>\n",
              "        </tr>\n",
              "        <tr>\n",
              "            <td>ARIZONA</td>\n",
              "            <td>11</td>\n",
              "            <td>6828065</td>\n",
              "        </tr>\n",
              "        <tr>\n",
              "            <td>ARKANSAS</td>\n",
              "            <td>6</td>\n",
              "            <td>2978204</td>\n",
              "        </tr>\n",
              "        <tr>\n",
              "            <td>CALIFORNIA</td>\n",
              "            <td>55</td>\n",
              "            <td>39144818</td>\n",
              "        </tr>\n",
              "    </tbody>\n",
              "</table>"
            ],
            "text/plain": [
              "[('ALABAMA', 9, 4858979),\n",
              " ('ALASKA', 3, 738432),\n",
              " ('ARIZONA', 11, 6828065),\n",
              " ('ARKANSAS', 6, 2978204),\n",
              " ('CALIFORNIA', 55, 39144818)]"
            ]
          },
          "metadata": {
            "tags": []
          },
          "execution_count": 579
        }
      ]
    },
    {
      "cell_type": "markdown",
      "metadata": {
        "id": "QpjAlsmOBb-Q"
      },
      "source": [
        "# **5.0 Working with the new table** (merged_data)"
      ]
    },
    {
      "cell_type": "markdown",
      "metadata": {
        "id": "trU3E6zMBsni"
      },
      "source": [
        "Creating a new column known as ratio.\n",
        "\n"
      ]
    },
    {
      "cell_type": "code",
      "metadata": {
        "colab": {
          "base_uri": "https://localhost:8080/",
          "height": 191
        },
        "id": "WWdUTfGBBxy8",
        "outputId": "995783fb-e394-4ec9-af00-feb88a28f11a"
      },
      "source": [
        "# A new column\n",
        "# to compute the ratio between the number of grand electors and the population.\n",
        "%%sql\n",
        "ALTER TABLE merged_data ADD \"ratio(x10^6)\" double;\n",
        "SELECT * FROM merged_data LIMIT 5;"
      ],
      "execution_count": 580,
      "outputs": [
        {
          "output_type": "stream",
          "text": [
            " * sqlite://\n",
            "Done.\n",
            "Done.\n"
          ],
          "name": "stdout"
        },
        {
          "output_type": "execute_result",
          "data": {
            "text/html": [
              "<table>\n",
              "    <thead>\n",
              "        <tr>\n",
              "            <th>State</th>\n",
              "            <th>GrandElectors</th>\n",
              "            <th>Population</th>\n",
              "            <th>ratio(x10^6)</th>\n",
              "        </tr>\n",
              "    </thead>\n",
              "    <tbody>\n",
              "        <tr>\n",
              "            <td>ALABAMA</td>\n",
              "            <td>9</td>\n",
              "            <td>4858979</td>\n",
              "            <td>None</td>\n",
              "        </tr>\n",
              "        <tr>\n",
              "            <td>ALASKA</td>\n",
              "            <td>3</td>\n",
              "            <td>738432</td>\n",
              "            <td>None</td>\n",
              "        </tr>\n",
              "        <tr>\n",
              "            <td>ARIZONA</td>\n",
              "            <td>11</td>\n",
              "            <td>6828065</td>\n",
              "            <td>None</td>\n",
              "        </tr>\n",
              "        <tr>\n",
              "            <td>ARKANSAS</td>\n",
              "            <td>6</td>\n",
              "            <td>2978204</td>\n",
              "            <td>None</td>\n",
              "        </tr>\n",
              "        <tr>\n",
              "            <td>CALIFORNIA</td>\n",
              "            <td>55</td>\n",
              "            <td>39144818</td>\n",
              "            <td>None</td>\n",
              "        </tr>\n",
              "    </tbody>\n",
              "</table>"
            ],
            "text/plain": [
              "[('ALABAMA', 9, 4858979, None),\n",
              " ('ALASKA', 3, 738432, None),\n",
              " ('ARIZONA', 11, 6828065, None),\n",
              " ('ARKANSAS', 6, 2978204, None),\n",
              " ('CALIFORNIA', 55, 39144818, None)]"
            ]
          },
          "metadata": {
            "tags": []
          },
          "execution_count": 580
        }
      ]
    },
    {
      "cell_type": "markdown",
      "metadata": {
        "id": "ZfyrsLlSFxXg"
      },
      "source": [
        "Updating data into the new column"
      ]
    },
    {
      "cell_type": "code",
      "metadata": {
        "colab": {
          "base_uri": "https://localhost:8080/",
          "height": 191
        },
        "id": "jcPKyS2PFxC2",
        "outputId": "de07410e-2dec-4d22-8179-a97b3c1ce328"
      },
      "source": [
        "%%sql\n",
        "UPDATE merged_data\n",
        "SET \"ratio(x10^6)\" = (GrandElectors*1000000)/(Population);\n",
        "SELECT * FROM merged_data LIMIT 5;"
      ],
      "execution_count": 581,
      "outputs": [
        {
          "output_type": "stream",
          "text": [
            " * sqlite://\n",
            "51 rows affected.\n",
            "Done.\n"
          ],
          "name": "stdout"
        },
        {
          "output_type": "execute_result",
          "data": {
            "text/html": [
              "<table>\n",
              "    <thead>\n",
              "        <tr>\n",
              "            <th>State</th>\n",
              "            <th>GrandElectors</th>\n",
              "            <th>Population</th>\n",
              "            <th>ratio(x10^6)</th>\n",
              "        </tr>\n",
              "    </thead>\n",
              "    <tbody>\n",
              "        <tr>\n",
              "            <td>ALABAMA</td>\n",
              "            <td>9</td>\n",
              "            <td>4858979</td>\n",
              "            <td>1.0</td>\n",
              "        </tr>\n",
              "        <tr>\n",
              "            <td>ALASKA</td>\n",
              "            <td>3</td>\n",
              "            <td>738432</td>\n",
              "            <td>4.0</td>\n",
              "        </tr>\n",
              "        <tr>\n",
              "            <td>ARIZONA</td>\n",
              "            <td>11</td>\n",
              "            <td>6828065</td>\n",
              "            <td>1.0</td>\n",
              "        </tr>\n",
              "        <tr>\n",
              "            <td>ARKANSAS</td>\n",
              "            <td>6</td>\n",
              "            <td>2978204</td>\n",
              "            <td>2.0</td>\n",
              "        </tr>\n",
              "        <tr>\n",
              "            <td>CALIFORNIA</td>\n",
              "            <td>55</td>\n",
              "            <td>39144818</td>\n",
              "            <td>1.0</td>\n",
              "        </tr>\n",
              "    </tbody>\n",
              "</table>"
            ],
            "text/plain": [
              "[('ALABAMA', 9, 4858979, 1.0),\n",
              " ('ALASKA', 3, 738432, 4.0),\n",
              " ('ARIZONA', 11, 6828065, 1.0),\n",
              " ('ARKANSAS', 6, 2978204, 2.0),\n",
              " ('CALIFORNIA', 55, 39144818, 1.0)]"
            ]
          },
          "metadata": {
            "tags": []
          },
          "execution_count": 581
        }
      ]
    },
    {
      "cell_type": "code",
      "metadata": {
        "id": "VCOOmMmNQ70j"
      },
      "source": [
        "# %%sql\n",
        "# DROP TABLE merged_data;\n",
        "# DROP TABLE merged_data_sorted;\n",
        "# DROP TABLE final;"
      ],
      "execution_count": 582,
      "outputs": []
    },
    {
      "cell_type": "markdown",
      "metadata": {
        "id": "2jUg60WiRSdu"
      },
      "source": [
        "# **5.1 New sorted merged table**"
      ]
    },
    {
      "cell_type": "markdown",
      "metadata": {
        "id": "s1_-LudsMKp7"
      },
      "source": [
        "Ordering the states by decreasing ratio of Grand Electors per capital. This will make our priority list."
      ]
    },
    {
      "cell_type": "code",
      "metadata": {
        "colab": {
          "base_uri": "https://localhost:8080/",
          "height": 1000
        },
        "id": "nx4OQNmjRwkc",
        "outputId": "0de27baf-042e-444d-d5f1-b73be30899e2"
      },
      "source": [
        "%%sql\n",
        "SELECT * FROM merged_data\n",
        "ORDER BY \"ratio(x10^6)\" DESC;"
      ],
      "execution_count": 583,
      "outputs": [
        {
          "output_type": "stream",
          "text": [
            " * sqlite://\n",
            "Done.\n"
          ],
          "name": "stdout"
        },
        {
          "output_type": "execute_result",
          "data": {
            "text/html": [
              "<table>\n",
              "    <thead>\n",
              "        <tr>\n",
              "            <th>State</th>\n",
              "            <th>GrandElectors</th>\n",
              "            <th>Population</th>\n",
              "            <th>ratio(x10^6)</th>\n",
              "        </tr>\n",
              "    </thead>\n",
              "    <tbody>\n",
              "        <tr>\n",
              "            <td>WYOMING</td>\n",
              "            <td>3</td>\n",
              "            <td>586107</td>\n",
              "            <td>5.0</td>\n",
              "        </tr>\n",
              "        <tr>\n",
              "            <td>ALASKA</td>\n",
              "            <td>3</td>\n",
              "            <td>738432</td>\n",
              "            <td>4.0</td>\n",
              "        </tr>\n",
              "        <tr>\n",
              "            <td>DC</td>\n",
              "            <td>3</td>\n",
              "            <td>672228</td>\n",
              "            <td>4.0</td>\n",
              "        </tr>\n",
              "        <tr>\n",
              "            <td>VERMONT</td>\n",
              "            <td>3</td>\n",
              "            <td>626042</td>\n",
              "            <td>4.0</td>\n",
              "        </tr>\n",
              "        <tr>\n",
              "            <td>DELAWARE</td>\n",
              "            <td>3</td>\n",
              "            <td>945934</td>\n",
              "            <td>3.0</td>\n",
              "        </tr>\n",
              "        <tr>\n",
              "            <td>MAINE</td>\n",
              "            <td>4</td>\n",
              "            <td>1329328</td>\n",
              "            <td>3.0</td>\n",
              "        </tr>\n",
              "        <tr>\n",
              "            <td>NEW HAMPSHIRE</td>\n",
              "            <td>4</td>\n",
              "            <td>1330608</td>\n",
              "            <td>3.0</td>\n",
              "        </tr>\n",
              "        <tr>\n",
              "            <td>NORTH DAKOTA</td>\n",
              "            <td>3</td>\n",
              "            <td>756927</td>\n",
              "            <td>3.0</td>\n",
              "        </tr>\n",
              "        <tr>\n",
              "            <td>RHODE ISLAND</td>\n",
              "            <td>4</td>\n",
              "            <td>1056298</td>\n",
              "            <td>3.0</td>\n",
              "        </tr>\n",
              "        <tr>\n",
              "            <td>SOUTH DAKOTA</td>\n",
              "            <td>3</td>\n",
              "            <td>858469</td>\n",
              "            <td>3.0</td>\n",
              "        </tr>\n",
              "        <tr>\n",
              "            <td>ARKANSAS</td>\n",
              "            <td>6</td>\n",
              "            <td>2978204</td>\n",
              "            <td>2.0</td>\n",
              "        </tr>\n",
              "        <tr>\n",
              "            <td>HAWAII</td>\n",
              "            <td>4</td>\n",
              "            <td>1431603</td>\n",
              "            <td>2.0</td>\n",
              "        </tr>\n",
              "        <tr>\n",
              "            <td>IDAHO</td>\n",
              "            <td>4</td>\n",
              "            <td>1654930</td>\n",
              "            <td>2.0</td>\n",
              "        </tr>\n",
              "        <tr>\n",
              "            <td>KANSAS</td>\n",
              "            <td>6</td>\n",
              "            <td>2911641</td>\n",
              "            <td>2.0</td>\n",
              "        </tr>\n",
              "        <tr>\n",
              "            <td>MISSISSIPPI</td>\n",
              "            <td>6</td>\n",
              "            <td>2992333</td>\n",
              "            <td>2.0</td>\n",
              "        </tr>\n",
              "        <tr>\n",
              "            <td>MONTANA</td>\n",
              "            <td>3</td>\n",
              "            <td>1032949</td>\n",
              "            <td>2.0</td>\n",
              "        </tr>\n",
              "        <tr>\n",
              "            <td>NEBRASKA</td>\n",
              "            <td>5</td>\n",
              "            <td>1896190</td>\n",
              "            <td>2.0</td>\n",
              "        </tr>\n",
              "        <tr>\n",
              "            <td>NEVADA</td>\n",
              "            <td>6</td>\n",
              "            <td>2890845</td>\n",
              "            <td>2.0</td>\n",
              "        </tr>\n",
              "        <tr>\n",
              "            <td>NEW MEXICO</td>\n",
              "            <td>5</td>\n",
              "            <td>2085109</td>\n",
              "            <td>2.0</td>\n",
              "        </tr>\n",
              "        <tr>\n",
              "            <td>UTAH</td>\n",
              "            <td>6</td>\n",
              "            <td>2995919</td>\n",
              "            <td>2.0</td>\n",
              "        </tr>\n",
              "        <tr>\n",
              "            <td>WEST VIRGINIA</td>\n",
              "            <td>5</td>\n",
              "            <td>1844128</td>\n",
              "            <td>2.0</td>\n",
              "        </tr>\n",
              "        <tr>\n",
              "            <td>ALABAMA</td>\n",
              "            <td>9</td>\n",
              "            <td>4858979</td>\n",
              "            <td>1.0</td>\n",
              "        </tr>\n",
              "        <tr>\n",
              "            <td>ARIZONA</td>\n",
              "            <td>11</td>\n",
              "            <td>6828065</td>\n",
              "            <td>1.0</td>\n",
              "        </tr>\n",
              "        <tr>\n",
              "            <td>CALIFORNIA</td>\n",
              "            <td>55</td>\n",
              "            <td>39144818</td>\n",
              "            <td>1.0</td>\n",
              "        </tr>\n",
              "        <tr>\n",
              "            <td>COLORADO</td>\n",
              "            <td>9</td>\n",
              "            <td>5456574</td>\n",
              "            <td>1.0</td>\n",
              "        </tr>\n",
              "        <tr>\n",
              "            <td>CONNECTICUT</td>\n",
              "            <td>7</td>\n",
              "            <td>3590886</td>\n",
              "            <td>1.0</td>\n",
              "        </tr>\n",
              "        <tr>\n",
              "            <td>FLORIDA</td>\n",
              "            <td>29</td>\n",
              "            <td>20271272</td>\n",
              "            <td>1.0</td>\n",
              "        </tr>\n",
              "        <tr>\n",
              "            <td>GEORGIA</td>\n",
              "            <td>16</td>\n",
              "            <td>10214860</td>\n",
              "            <td>1.0</td>\n",
              "        </tr>\n",
              "        <tr>\n",
              "            <td>ILLINOIS</td>\n",
              "            <td>20</td>\n",
              "            <td>12859995</td>\n",
              "            <td>1.0</td>\n",
              "        </tr>\n",
              "        <tr>\n",
              "            <td>INDIANA</td>\n",
              "            <td>11</td>\n",
              "            <td>6619680</td>\n",
              "            <td>1.0</td>\n",
              "        </tr>\n",
              "        <tr>\n",
              "            <td>IOWA</td>\n",
              "            <td>6</td>\n",
              "            <td>3123899</td>\n",
              "            <td>1.0</td>\n",
              "        </tr>\n",
              "        <tr>\n",
              "            <td>KENTUCKY</td>\n",
              "            <td>8</td>\n",
              "            <td>4425092</td>\n",
              "            <td>1.0</td>\n",
              "        </tr>\n",
              "        <tr>\n",
              "            <td>LOUISIANA</td>\n",
              "            <td>8</td>\n",
              "            <td>4670724</td>\n",
              "            <td>1.0</td>\n",
              "        </tr>\n",
              "        <tr>\n",
              "            <td>MARYLAND</td>\n",
              "            <td>10</td>\n",
              "            <td>6006401</td>\n",
              "            <td>1.0</td>\n",
              "        </tr>\n",
              "        <tr>\n",
              "            <td>MASSACHUSETTS</td>\n",
              "            <td>11</td>\n",
              "            <td>6794422</td>\n",
              "            <td>1.0</td>\n",
              "        </tr>\n",
              "        <tr>\n",
              "            <td>MICHIGAN</td>\n",
              "            <td>16</td>\n",
              "            <td>9922576</td>\n",
              "            <td>1.0</td>\n",
              "        </tr>\n",
              "        <tr>\n",
              "            <td>MINNESOTA</td>\n",
              "            <td>10</td>\n",
              "            <td>5489594</td>\n",
              "            <td>1.0</td>\n",
              "        </tr>\n",
              "        <tr>\n",
              "            <td>MISSOURI</td>\n",
              "            <td>10</td>\n",
              "            <td>6083672</td>\n",
              "            <td>1.0</td>\n",
              "        </tr>\n",
              "        <tr>\n",
              "            <td>NEW JERSEY</td>\n",
              "            <td>14</td>\n",
              "            <td>8958013</td>\n",
              "            <td>1.0</td>\n",
              "        </tr>\n",
              "        <tr>\n",
              "            <td>NEW YORK</td>\n",
              "            <td>29</td>\n",
              "            <td>19795791</td>\n",
              "            <td>1.0</td>\n",
              "        </tr>\n",
              "        <tr>\n",
              "            <td>NORTH CAROLINA</td>\n",
              "            <td>15</td>\n",
              "            <td>10042802</td>\n",
              "            <td>1.0</td>\n",
              "        </tr>\n",
              "        <tr>\n",
              "            <td>OHIO</td>\n",
              "            <td>18</td>\n",
              "            <td>11613423</td>\n",
              "            <td>1.0</td>\n",
              "        </tr>\n",
              "        <tr>\n",
              "            <td>OKLAHOMA</td>\n",
              "            <td>7</td>\n",
              "            <td>3911338</td>\n",
              "            <td>1.0</td>\n",
              "        </tr>\n",
              "        <tr>\n",
              "            <td>OREGON</td>\n",
              "            <td>7</td>\n",
              "            <td>4028977</td>\n",
              "            <td>1.0</td>\n",
              "        </tr>\n",
              "        <tr>\n",
              "            <td>PENNSYLVANIA</td>\n",
              "            <td>20</td>\n",
              "            <td>12802503</td>\n",
              "            <td>1.0</td>\n",
              "        </tr>\n",
              "        <tr>\n",
              "            <td>SOUTH CAROLINA</td>\n",
              "            <td>9</td>\n",
              "            <td>4896146</td>\n",
              "            <td>1.0</td>\n",
              "        </tr>\n",
              "        <tr>\n",
              "            <td>TENNESSEE</td>\n",
              "            <td>11</td>\n",
              "            <td>6600299</td>\n",
              "            <td>1.0</td>\n",
              "        </tr>\n",
              "        <tr>\n",
              "            <td>TEXAS</td>\n",
              "            <td>38</td>\n",
              "            <td>27469114</td>\n",
              "            <td>1.0</td>\n",
              "        </tr>\n",
              "        <tr>\n",
              "            <td>VIRGINIA</td>\n",
              "            <td>13</td>\n",
              "            <td>8382993</td>\n",
              "            <td>1.0</td>\n",
              "        </tr>\n",
              "        <tr>\n",
              "            <td>WASHINGTON</td>\n",
              "            <td>12</td>\n",
              "            <td>7170351</td>\n",
              "            <td>1.0</td>\n",
              "        </tr>\n",
              "        <tr>\n",
              "            <td>WISCONSIN</td>\n",
              "            <td>10</td>\n",
              "            <td>5771337</td>\n",
              "            <td>1.0</td>\n",
              "        </tr>\n",
              "    </tbody>\n",
              "</table>"
            ],
            "text/plain": [
              "[('WYOMING', 3, 586107, 5.0),\n",
              " ('ALASKA', 3, 738432, 4.0),\n",
              " ('DC', 3, 672228, 4.0),\n",
              " ('VERMONT', 3, 626042, 4.0),\n",
              " ('DELAWARE', 3, 945934, 3.0),\n",
              " ('MAINE', 4, 1329328, 3.0),\n",
              " ('NEW HAMPSHIRE', 4, 1330608, 3.0),\n",
              " ('NORTH DAKOTA', 3, 756927, 3.0),\n",
              " ('RHODE ISLAND', 4, 1056298, 3.0),\n",
              " ('SOUTH DAKOTA', 3, 858469, 3.0),\n",
              " ('ARKANSAS', 6, 2978204, 2.0),\n",
              " ('HAWAII', 4, 1431603, 2.0),\n",
              " ('IDAHO', 4, 1654930, 2.0),\n",
              " ('KANSAS', 6, 2911641, 2.0),\n",
              " ('MISSISSIPPI', 6, 2992333, 2.0),\n",
              " ('MONTANA', 3, 1032949, 2.0),\n",
              " ('NEBRASKA', 5, 1896190, 2.0),\n",
              " ('NEVADA', 6, 2890845, 2.0),\n",
              " ('NEW MEXICO', 5, 2085109, 2.0),\n",
              " ('UTAH', 6, 2995919, 2.0),\n",
              " ('WEST VIRGINIA', 5, 1844128, 2.0),\n",
              " ('ALABAMA', 9, 4858979, 1.0),\n",
              " ('ARIZONA', 11, 6828065, 1.0),\n",
              " ('CALIFORNIA', 55, 39144818, 1.0),\n",
              " ('COLORADO', 9, 5456574, 1.0),\n",
              " ('CONNECTICUT', 7, 3590886, 1.0),\n",
              " ('FLORIDA', 29, 20271272, 1.0),\n",
              " ('GEORGIA', 16, 10214860, 1.0),\n",
              " ('ILLINOIS', 20, 12859995, 1.0),\n",
              " ('INDIANA', 11, 6619680, 1.0),\n",
              " ('IOWA', 6, 3123899, 1.0),\n",
              " ('KENTUCKY', 8, 4425092, 1.0),\n",
              " ('LOUISIANA', 8, 4670724, 1.0),\n",
              " ('MARYLAND', 10, 6006401, 1.0),\n",
              " ('MASSACHUSETTS', 11, 6794422, 1.0),\n",
              " ('MICHIGAN', 16, 9922576, 1.0),\n",
              " ('MINNESOTA', 10, 5489594, 1.0),\n",
              " ('MISSOURI', 10, 6083672, 1.0),\n",
              " ('NEW JERSEY', 14, 8958013, 1.0),\n",
              " ('NEW YORK', 29, 19795791, 1.0),\n",
              " ('NORTH CAROLINA', 15, 10042802, 1.0),\n",
              " ('OHIO', 18, 11613423, 1.0),\n",
              " ('OKLAHOMA', 7, 3911338, 1.0),\n",
              " ('OREGON', 7, 4028977, 1.0),\n",
              " ('PENNSYLVANIA', 20, 12802503, 1.0),\n",
              " ('SOUTH CAROLINA', 9, 4896146, 1.0),\n",
              " ('TENNESSEE', 11, 6600299, 1.0),\n",
              " ('TEXAS', 38, 27469114, 1.0),\n",
              " ('VIRGINIA', 13, 8382993, 1.0),\n",
              " ('WASHINGTON', 12, 7170351, 1.0),\n",
              " ('WISCONSIN', 10, 5771337, 1.0)]"
            ]
          },
          "metadata": {
            "tags": []
          },
          "execution_count": 583
        }
      ]
    },
    {
      "cell_type": "markdown",
      "metadata": {
        "id": "ZakHxX_bRzPb"
      },
      "source": [
        "Creating the new table"
      ]
    },
    {
      "cell_type": "code",
      "metadata": {
        "colab": {
          "base_uri": "https://localhost:8080/",
          "height": 106
        },
        "id": "7Ut4JmZJRKAV",
        "outputId": "d582088c-fdbb-4a26-8390-7e7aa2443253"
      },
      "source": [
        "%%sql\n",
        "CREATE TABLE merged_data_sorted(\n",
        "    State char,\n",
        "    GrandElectors int,\n",
        "    Population int\n",
        ");\n",
        "ALTER TABLE merged_data_sorted ADD \"ratio(x10^6)\" double;\n",
        "SELECT * FROM merged_data_sorted LIMIT 5;"
      ],
      "execution_count": 584,
      "outputs": [
        {
          "output_type": "stream",
          "text": [
            " * sqlite://\n",
            "Done.\n",
            "Done.\n",
            "Done.\n"
          ],
          "name": "stdout"
        },
        {
          "output_type": "execute_result",
          "data": {
            "text/html": [
              "<table>\n",
              "    <thead>\n",
              "        <tr>\n",
              "            <th>State</th>\n",
              "            <th>GrandElectors</th>\n",
              "            <th>Population</th>\n",
              "            <th>ratio(x10^6)</th>\n",
              "        </tr>\n",
              "    </thead>\n",
              "    <tbody>\n",
              "    </tbody>\n",
              "</table>"
            ],
            "text/plain": [
              "[]"
            ]
          },
          "metadata": {
            "tags": []
          },
          "execution_count": 584
        }
      ]
    },
    {
      "cell_type": "markdown",
      "metadata": {
        "id": "44nbgEuIRmwM"
      },
      "source": [
        "Updating the new table with the sorted data\n"
      ]
    },
    {
      "cell_type": "code",
      "metadata": {
        "colab": {
          "base_uri": "https://localhost:8080/"
        },
        "id": "4InQnEAqRmGY",
        "outputId": "1da393db-9ad8-41dd-9c4a-bacce1de1853"
      },
      "source": [
        "%%sql\n",
        "INSERT INTO merged_data_sorted SELECT * FROM merged_data\n",
        "ORDER BY \"ratio(x10^6)\" DESC;"
      ],
      "execution_count": 585,
      "outputs": [
        {
          "output_type": "stream",
          "text": [
            " * sqlite://\n",
            "51 rows affected.\n"
          ],
          "name": "stdout"
        },
        {
          "output_type": "execute_result",
          "data": {
            "text/plain": [
              "[]"
            ]
          },
          "metadata": {
            "tags": []
          },
          "execution_count": 585
        }
      ]
    },
    {
      "cell_type": "code",
      "metadata": {
        "colab": {
          "base_uri": "https://localhost:8080/",
          "height": 174
        },
        "id": "kS1RKtKaSE2-",
        "outputId": "5618e966-60ec-4a43-f96f-53cc6478a632"
      },
      "source": [
        "# previewing the merged_data_sorted table\n",
        "%%sql\n",
        "SELECT * FROM merged_data_sorted LIMIT 5;"
      ],
      "execution_count": 586,
      "outputs": [
        {
          "output_type": "stream",
          "text": [
            " * sqlite://\n",
            "Done.\n"
          ],
          "name": "stdout"
        },
        {
          "output_type": "execute_result",
          "data": {
            "text/html": [
              "<table>\n",
              "    <thead>\n",
              "        <tr>\n",
              "            <th>State</th>\n",
              "            <th>GrandElectors</th>\n",
              "            <th>Population</th>\n",
              "            <th>ratio(x10^6)</th>\n",
              "        </tr>\n",
              "    </thead>\n",
              "    <tbody>\n",
              "        <tr>\n",
              "            <td>WYOMING</td>\n",
              "            <td>3</td>\n",
              "            <td>586107</td>\n",
              "            <td>5.0</td>\n",
              "        </tr>\n",
              "        <tr>\n",
              "            <td>ALASKA</td>\n",
              "            <td>3</td>\n",
              "            <td>738432</td>\n",
              "            <td>4.0</td>\n",
              "        </tr>\n",
              "        <tr>\n",
              "            <td>DC</td>\n",
              "            <td>3</td>\n",
              "            <td>672228</td>\n",
              "            <td>4.0</td>\n",
              "        </tr>\n",
              "        <tr>\n",
              "            <td>VERMONT</td>\n",
              "            <td>3</td>\n",
              "            <td>626042</td>\n",
              "            <td>4.0</td>\n",
              "        </tr>\n",
              "        <tr>\n",
              "            <td>DELAWARE</td>\n",
              "            <td>3</td>\n",
              "            <td>945934</td>\n",
              "            <td>3.0</td>\n",
              "        </tr>\n",
              "    </tbody>\n",
              "</table>"
            ],
            "text/plain": [
              "[('WYOMING', 3, 586107, 5.0),\n",
              " ('ALASKA', 3, 738432, 4.0),\n",
              " ('DC', 3, 672228, 4.0),\n",
              " ('VERMONT', 3, 626042, 4.0),\n",
              " ('DELAWARE', 3, 945934, 3.0)]"
            ]
          },
          "metadata": {
            "tags": []
          },
          "execution_count": 586
        }
      ]
    },
    {
      "cell_type": "markdown",
      "metadata": {
        "id": "UgiOzVfFTmqc"
      },
      "source": [
        "Finding the cumulative sum of the grand electors"
      ]
    },
    {
      "cell_type": "code",
      "metadata": {
        "colab": {
          "base_uri": "https://localhost:8080/",
          "height": 1000
        },
        "id": "pgaDlnT0Yj1i",
        "outputId": "7b0473d7-ec16-473a-de57-8cf6ad048a27"
      },
      "source": [
        "%%sql\n",
        "select t1.State, t1.GrandElectors, t1.Population, t1.\"ratio(x10^6)\",\n",
        "SUM(t2.GrandElectors) as cummulative_sum\n",
        "from merged_data_sorted t1\n",
        "inner join merged_data_sorted t2 on t1.\"ratio(x10^6)\" == t2.\"ratio(x10^6)\"\n",
        "group by t1.State, t1.GrandElectors, t1.Population, t1.\"ratio(x10^6)\"\n",
        "order by t1.\"ratio(x10^6)\" DESC;"
      ],
      "execution_count": 600,
      "outputs": [
        {
          "output_type": "stream",
          "text": [
            " * sqlite://\n",
            "Done.\n"
          ],
          "name": "stdout"
        },
        {
          "output_type": "execute_result",
          "data": {
            "text/html": [
              "<table>\n",
              "    <thead>\n",
              "        <tr>\n",
              "            <th>State</th>\n",
              "            <th>GrandElectors</th>\n",
              "            <th>Population</th>\n",
              "            <th>ratio(x10^6)</th>\n",
              "            <th>cummulative_sum</th>\n",
              "        </tr>\n",
              "    </thead>\n",
              "    <tbody>\n",
              "        <tr>\n",
              "            <td>WYOMING</td>\n",
              "            <td>3</td>\n",
              "            <td>586107</td>\n",
              "            <td>5.0</td>\n",
              "            <td>3</td>\n",
              "        </tr>\n",
              "        <tr>\n",
              "            <td>ALASKA</td>\n",
              "            <td>3</td>\n",
              "            <td>738432</td>\n",
              "            <td>4.0</td>\n",
              "            <td>9</td>\n",
              "        </tr>\n",
              "        <tr>\n",
              "            <td>DC</td>\n",
              "            <td>3</td>\n",
              "            <td>672228</td>\n",
              "            <td>4.0</td>\n",
              "            <td>9</td>\n",
              "        </tr>\n",
              "        <tr>\n",
              "            <td>VERMONT</td>\n",
              "            <td>3</td>\n",
              "            <td>626042</td>\n",
              "            <td>4.0</td>\n",
              "            <td>9</td>\n",
              "        </tr>\n",
              "        <tr>\n",
              "            <td>DELAWARE</td>\n",
              "            <td>3</td>\n",
              "            <td>945934</td>\n",
              "            <td>3.0</td>\n",
              "            <td>21</td>\n",
              "        </tr>\n",
              "        <tr>\n",
              "            <td>MAINE</td>\n",
              "            <td>4</td>\n",
              "            <td>1329328</td>\n",
              "            <td>3.0</td>\n",
              "            <td>21</td>\n",
              "        </tr>\n",
              "        <tr>\n",
              "            <td>NEW HAMPSHIRE</td>\n",
              "            <td>4</td>\n",
              "            <td>1330608</td>\n",
              "            <td>3.0</td>\n",
              "            <td>21</td>\n",
              "        </tr>\n",
              "        <tr>\n",
              "            <td>NORTH DAKOTA</td>\n",
              "            <td>3</td>\n",
              "            <td>756927</td>\n",
              "            <td>3.0</td>\n",
              "            <td>21</td>\n",
              "        </tr>\n",
              "        <tr>\n",
              "            <td>RHODE ISLAND</td>\n",
              "            <td>4</td>\n",
              "            <td>1056298</td>\n",
              "            <td>3.0</td>\n",
              "            <td>21</td>\n",
              "        </tr>\n",
              "        <tr>\n",
              "            <td>SOUTH DAKOTA</td>\n",
              "            <td>3</td>\n",
              "            <td>858469</td>\n",
              "            <td>3.0</td>\n",
              "            <td>21</td>\n",
              "        </tr>\n",
              "        <tr>\n",
              "            <td>ARKANSAS</td>\n",
              "            <td>6</td>\n",
              "            <td>2978204</td>\n",
              "            <td>2.0</td>\n",
              "            <td>56</td>\n",
              "        </tr>\n",
              "        <tr>\n",
              "            <td>HAWAII</td>\n",
              "            <td>4</td>\n",
              "            <td>1431603</td>\n",
              "            <td>2.0</td>\n",
              "            <td>56</td>\n",
              "        </tr>\n",
              "        <tr>\n",
              "            <td>IDAHO</td>\n",
              "            <td>4</td>\n",
              "            <td>1654930</td>\n",
              "            <td>2.0</td>\n",
              "            <td>56</td>\n",
              "        </tr>\n",
              "        <tr>\n",
              "            <td>KANSAS</td>\n",
              "            <td>6</td>\n",
              "            <td>2911641</td>\n",
              "            <td>2.0</td>\n",
              "            <td>56</td>\n",
              "        </tr>\n",
              "        <tr>\n",
              "            <td>MISSISSIPPI</td>\n",
              "            <td>6</td>\n",
              "            <td>2992333</td>\n",
              "            <td>2.0</td>\n",
              "            <td>56</td>\n",
              "        </tr>\n",
              "        <tr>\n",
              "            <td>MONTANA</td>\n",
              "            <td>3</td>\n",
              "            <td>1032949</td>\n",
              "            <td>2.0</td>\n",
              "            <td>56</td>\n",
              "        </tr>\n",
              "        <tr>\n",
              "            <td>NEBRASKA</td>\n",
              "            <td>5</td>\n",
              "            <td>1896190</td>\n",
              "            <td>2.0</td>\n",
              "            <td>56</td>\n",
              "        </tr>\n",
              "        <tr>\n",
              "            <td>NEVADA</td>\n",
              "            <td>6</td>\n",
              "            <td>2890845</td>\n",
              "            <td>2.0</td>\n",
              "            <td>56</td>\n",
              "        </tr>\n",
              "        <tr>\n",
              "            <td>NEW MEXICO</td>\n",
              "            <td>5</td>\n",
              "            <td>2085109</td>\n",
              "            <td>2.0</td>\n",
              "            <td>56</td>\n",
              "        </tr>\n",
              "        <tr>\n",
              "            <td>UTAH</td>\n",
              "            <td>6</td>\n",
              "            <td>2995919</td>\n",
              "            <td>2.0</td>\n",
              "            <td>56</td>\n",
              "        </tr>\n",
              "        <tr>\n",
              "            <td>WEST VIRGINIA</td>\n",
              "            <td>5</td>\n",
              "            <td>1844128</td>\n",
              "            <td>2.0</td>\n",
              "            <td>56</td>\n",
              "        </tr>\n",
              "        <tr>\n",
              "            <td>ALABAMA</td>\n",
              "            <td>9</td>\n",
              "            <td>4858979</td>\n",
              "            <td>1.0</td>\n",
              "            <td>449</td>\n",
              "        </tr>\n",
              "        <tr>\n",
              "            <td>ARIZONA</td>\n",
              "            <td>11</td>\n",
              "            <td>6828065</td>\n",
              "            <td>1.0</td>\n",
              "            <td>449</td>\n",
              "        </tr>\n",
              "        <tr>\n",
              "            <td>CALIFORNIA</td>\n",
              "            <td>55</td>\n",
              "            <td>39144818</td>\n",
              "            <td>1.0</td>\n",
              "            <td>449</td>\n",
              "        </tr>\n",
              "        <tr>\n",
              "            <td>COLORADO</td>\n",
              "            <td>9</td>\n",
              "            <td>5456574</td>\n",
              "            <td>1.0</td>\n",
              "            <td>449</td>\n",
              "        </tr>\n",
              "        <tr>\n",
              "            <td>CONNECTICUT</td>\n",
              "            <td>7</td>\n",
              "            <td>3590886</td>\n",
              "            <td>1.0</td>\n",
              "            <td>449</td>\n",
              "        </tr>\n",
              "        <tr>\n",
              "            <td>FLORIDA</td>\n",
              "            <td>29</td>\n",
              "            <td>20271272</td>\n",
              "            <td>1.0</td>\n",
              "            <td>449</td>\n",
              "        </tr>\n",
              "        <tr>\n",
              "            <td>GEORGIA</td>\n",
              "            <td>16</td>\n",
              "            <td>10214860</td>\n",
              "            <td>1.0</td>\n",
              "            <td>449</td>\n",
              "        </tr>\n",
              "        <tr>\n",
              "            <td>ILLINOIS</td>\n",
              "            <td>20</td>\n",
              "            <td>12859995</td>\n",
              "            <td>1.0</td>\n",
              "            <td>449</td>\n",
              "        </tr>\n",
              "        <tr>\n",
              "            <td>INDIANA</td>\n",
              "            <td>11</td>\n",
              "            <td>6619680</td>\n",
              "            <td>1.0</td>\n",
              "            <td>449</td>\n",
              "        </tr>\n",
              "        <tr>\n",
              "            <td>IOWA</td>\n",
              "            <td>6</td>\n",
              "            <td>3123899</td>\n",
              "            <td>1.0</td>\n",
              "            <td>449</td>\n",
              "        </tr>\n",
              "        <tr>\n",
              "            <td>KENTUCKY</td>\n",
              "            <td>8</td>\n",
              "            <td>4425092</td>\n",
              "            <td>1.0</td>\n",
              "            <td>449</td>\n",
              "        </tr>\n",
              "        <tr>\n",
              "            <td>LOUISIANA</td>\n",
              "            <td>8</td>\n",
              "            <td>4670724</td>\n",
              "            <td>1.0</td>\n",
              "            <td>449</td>\n",
              "        </tr>\n",
              "        <tr>\n",
              "            <td>MARYLAND</td>\n",
              "            <td>10</td>\n",
              "            <td>6006401</td>\n",
              "            <td>1.0</td>\n",
              "            <td>449</td>\n",
              "        </tr>\n",
              "        <tr>\n",
              "            <td>MASSACHUSETTS</td>\n",
              "            <td>11</td>\n",
              "            <td>6794422</td>\n",
              "            <td>1.0</td>\n",
              "            <td>449</td>\n",
              "        </tr>\n",
              "        <tr>\n",
              "            <td>MICHIGAN</td>\n",
              "            <td>16</td>\n",
              "            <td>9922576</td>\n",
              "            <td>1.0</td>\n",
              "            <td>449</td>\n",
              "        </tr>\n",
              "        <tr>\n",
              "            <td>MINNESOTA</td>\n",
              "            <td>10</td>\n",
              "            <td>5489594</td>\n",
              "            <td>1.0</td>\n",
              "            <td>449</td>\n",
              "        </tr>\n",
              "        <tr>\n",
              "            <td>MISSOURI</td>\n",
              "            <td>10</td>\n",
              "            <td>6083672</td>\n",
              "            <td>1.0</td>\n",
              "            <td>449</td>\n",
              "        </tr>\n",
              "        <tr>\n",
              "            <td>NEW JERSEY</td>\n",
              "            <td>14</td>\n",
              "            <td>8958013</td>\n",
              "            <td>1.0</td>\n",
              "            <td>449</td>\n",
              "        </tr>\n",
              "        <tr>\n",
              "            <td>NEW YORK</td>\n",
              "            <td>29</td>\n",
              "            <td>19795791</td>\n",
              "            <td>1.0</td>\n",
              "            <td>449</td>\n",
              "        </tr>\n",
              "        <tr>\n",
              "            <td>NORTH CAROLINA</td>\n",
              "            <td>15</td>\n",
              "            <td>10042802</td>\n",
              "            <td>1.0</td>\n",
              "            <td>449</td>\n",
              "        </tr>\n",
              "        <tr>\n",
              "            <td>OHIO</td>\n",
              "            <td>18</td>\n",
              "            <td>11613423</td>\n",
              "            <td>1.0</td>\n",
              "            <td>449</td>\n",
              "        </tr>\n",
              "        <tr>\n",
              "            <td>OKLAHOMA</td>\n",
              "            <td>7</td>\n",
              "            <td>3911338</td>\n",
              "            <td>1.0</td>\n",
              "            <td>449</td>\n",
              "        </tr>\n",
              "        <tr>\n",
              "            <td>OREGON</td>\n",
              "            <td>7</td>\n",
              "            <td>4028977</td>\n",
              "            <td>1.0</td>\n",
              "            <td>449</td>\n",
              "        </tr>\n",
              "        <tr>\n",
              "            <td>PENNSYLVANIA</td>\n",
              "            <td>20</td>\n",
              "            <td>12802503</td>\n",
              "            <td>1.0</td>\n",
              "            <td>449</td>\n",
              "        </tr>\n",
              "        <tr>\n",
              "            <td>SOUTH CAROLINA</td>\n",
              "            <td>9</td>\n",
              "            <td>4896146</td>\n",
              "            <td>1.0</td>\n",
              "            <td>449</td>\n",
              "        </tr>\n",
              "        <tr>\n",
              "            <td>TENNESSEE</td>\n",
              "            <td>11</td>\n",
              "            <td>6600299</td>\n",
              "            <td>1.0</td>\n",
              "            <td>449</td>\n",
              "        </tr>\n",
              "        <tr>\n",
              "            <td>TEXAS</td>\n",
              "            <td>38</td>\n",
              "            <td>27469114</td>\n",
              "            <td>1.0</td>\n",
              "            <td>449</td>\n",
              "        </tr>\n",
              "        <tr>\n",
              "            <td>VIRGINIA</td>\n",
              "            <td>13</td>\n",
              "            <td>8382993</td>\n",
              "            <td>1.0</td>\n",
              "            <td>449</td>\n",
              "        </tr>\n",
              "        <tr>\n",
              "            <td>WASHINGTON</td>\n",
              "            <td>12</td>\n",
              "            <td>7170351</td>\n",
              "            <td>1.0</td>\n",
              "            <td>449</td>\n",
              "        </tr>\n",
              "        <tr>\n",
              "            <td>WISCONSIN</td>\n",
              "            <td>10</td>\n",
              "            <td>5771337</td>\n",
              "            <td>1.0</td>\n",
              "            <td>449</td>\n",
              "        </tr>\n",
              "    </tbody>\n",
              "</table>"
            ],
            "text/plain": [
              "[('WYOMING', 3, 586107, 5.0, 3),\n",
              " ('ALASKA', 3, 738432, 4.0, 9),\n",
              " ('DC', 3, 672228, 4.0, 9),\n",
              " ('VERMONT', 3, 626042, 4.0, 9),\n",
              " ('DELAWARE', 3, 945934, 3.0, 21),\n",
              " ('MAINE', 4, 1329328, 3.0, 21),\n",
              " ('NEW HAMPSHIRE', 4, 1330608, 3.0, 21),\n",
              " ('NORTH DAKOTA', 3, 756927, 3.0, 21),\n",
              " ('RHODE ISLAND', 4, 1056298, 3.0, 21),\n",
              " ('SOUTH DAKOTA', 3, 858469, 3.0, 21),\n",
              " ('ARKANSAS', 6, 2978204, 2.0, 56),\n",
              " ('HAWAII', 4, 1431603, 2.0, 56),\n",
              " ('IDAHO', 4, 1654930, 2.0, 56),\n",
              " ('KANSAS', 6, 2911641, 2.0, 56),\n",
              " ('MISSISSIPPI', 6, 2992333, 2.0, 56),\n",
              " ('MONTANA', 3, 1032949, 2.0, 56),\n",
              " ('NEBRASKA', 5, 1896190, 2.0, 56),\n",
              " ('NEVADA', 6, 2890845, 2.0, 56),\n",
              " ('NEW MEXICO', 5, 2085109, 2.0, 56),\n",
              " ('UTAH', 6, 2995919, 2.0, 56),\n",
              " ('WEST VIRGINIA', 5, 1844128, 2.0, 56),\n",
              " ('ALABAMA', 9, 4858979, 1.0, 449),\n",
              " ('ARIZONA', 11, 6828065, 1.0, 449),\n",
              " ('CALIFORNIA', 55, 39144818, 1.0, 449),\n",
              " ('COLORADO', 9, 5456574, 1.0, 449),\n",
              " ('CONNECTICUT', 7, 3590886, 1.0, 449),\n",
              " ('FLORIDA', 29, 20271272, 1.0, 449),\n",
              " ('GEORGIA', 16, 10214860, 1.0, 449),\n",
              " ('ILLINOIS', 20, 12859995, 1.0, 449),\n",
              " ('INDIANA', 11, 6619680, 1.0, 449),\n",
              " ('IOWA', 6, 3123899, 1.0, 449),\n",
              " ('KENTUCKY', 8, 4425092, 1.0, 449),\n",
              " ('LOUISIANA', 8, 4670724, 1.0, 449),\n",
              " ('MARYLAND', 10, 6006401, 1.0, 449),\n",
              " ('MASSACHUSETTS', 11, 6794422, 1.0, 449),\n",
              " ('MICHIGAN', 16, 9922576, 1.0, 449),\n",
              " ('MINNESOTA', 10, 5489594, 1.0, 449),\n",
              " ('MISSOURI', 10, 6083672, 1.0, 449),\n",
              " ('NEW JERSEY', 14, 8958013, 1.0, 449),\n",
              " ('NEW YORK', 29, 19795791, 1.0, 449),\n",
              " ('NORTH CAROLINA', 15, 10042802, 1.0, 449),\n",
              " ('OHIO', 18, 11613423, 1.0, 449),\n",
              " ('OKLAHOMA', 7, 3911338, 1.0, 449),\n",
              " ('OREGON', 7, 4028977, 1.0, 449),\n",
              " ('PENNSYLVANIA', 20, 12802503, 1.0, 449),\n",
              " ('SOUTH CAROLINA', 9, 4896146, 1.0, 449),\n",
              " ('TENNESSEE', 11, 6600299, 1.0, 449),\n",
              " ('TEXAS', 38, 27469114, 1.0, 449),\n",
              " ('VIRGINIA', 13, 8382993, 1.0, 449),\n",
              " ('WASHINGTON', 12, 7170351, 1.0, 449),\n",
              " ('WISCONSIN', 10, 5771337, 1.0, 449)]"
            ]
          },
          "metadata": {
            "tags": []
          },
          "execution_count": 600
        }
      ]
    },
    {
      "cell_type": "markdown",
      "metadata": {
        "id": "tSV5Wa0DcLuO"
      },
      "source": [
        "# **5.2 Final working on table**"
      ]
    },
    {
      "cell_type": "code",
      "metadata": {
        "colab": {
          "base_uri": "https://localhost:8080/",
          "height": 123
        },
        "id": "2hTqAMB8cUzc",
        "outputId": "23d6241d-de09-4138-f58b-5e0fe8d55960"
      },
      "source": [
        "# creating a new table called final to work on the new data with \n",
        "# cumulative sum in it\n",
        "%%sql\n",
        "CREATE TABLE final(\n",
        "    State char,\n",
        "    GrandElectors int,\n",
        "    Population int\n",
        ");\n",
        "ALTER TABLE final ADD \"ratio(x10^6)\" double;\n",
        "ALTER TABLE final ADD cummulative_sum double;\n",
        "SELECT * FROM final;"
      ],
      "execution_count": 588,
      "outputs": [
        {
          "output_type": "stream",
          "text": [
            " * sqlite://\n",
            "Done.\n",
            "Done.\n",
            "Done.\n",
            "Done.\n"
          ],
          "name": "stdout"
        },
        {
          "output_type": "execute_result",
          "data": {
            "text/html": [
              "<table>\n",
              "    <thead>\n",
              "        <tr>\n",
              "            <th>State</th>\n",
              "            <th>GrandElectors</th>\n",
              "            <th>Population</th>\n",
              "            <th>ratio(x10^6)</th>\n",
              "            <th>cummulative_sum</th>\n",
              "        </tr>\n",
              "    </thead>\n",
              "    <tbody>\n",
              "    </tbody>\n",
              "</table>"
            ],
            "text/plain": [
              "[]"
            ]
          },
          "metadata": {
            "tags": []
          },
          "execution_count": 588
        }
      ]
    },
    {
      "cell_type": "code",
      "metadata": {
        "colab": {
          "base_uri": "https://localhost:8080/"
        },
        "id": "jePgbFYdcs_D",
        "outputId": "56d95eef-c185-4758-b066-5c2615fa3a90"
      },
      "source": [
        "# updating the new table\n",
        "%%sql\n",
        "INSERT INTO final \n",
        "  select t1.State, t1.GrandElectors, t1.Population, t1.\"ratio(x10^6)\",\n",
        "  SUM(t2.GrandElectors) as cummulative_sum\n",
        "  from merged_data_sorted t1\n",
        "  inner join merged_data_sorted t2 on t1.\"ratio(x10^6)\" == t2.\"ratio(x10^6)\"\n",
        "  group by t1.State, t1.GrandElectors, t1.Population, t1.\"ratio(x10^6)\"\n",
        "  order by t1.\"ratio(x10^6)\" DESC;"
      ],
      "execution_count": 589,
      "outputs": [
        {
          "output_type": "stream",
          "text": [
            " * sqlite://\n",
            "51 rows affected.\n"
          ],
          "name": "stdout"
        },
        {
          "output_type": "execute_result",
          "data": {
            "text/plain": [
              "[]"
            ]
          },
          "metadata": {
            "tags": []
          },
          "execution_count": 589
        }
      ]
    },
    {
      "cell_type": "code",
      "metadata": {
        "colab": {
          "base_uri": "https://localhost:8080/",
          "height": 1000
        },
        "id": "zhcKuLKlc61h",
        "outputId": "cb88a57d-11d0-42c7-8d94-c16542a7de21"
      },
      "source": [
        "#  preview the new table\n",
        "%%sql \n",
        "SELECT * FROM final;"
      ],
      "execution_count": 590,
      "outputs": [
        {
          "output_type": "stream",
          "text": [
            " * sqlite://\n",
            "Done.\n"
          ],
          "name": "stdout"
        },
        {
          "output_type": "execute_result",
          "data": {
            "text/html": [
              "<table>\n",
              "    <thead>\n",
              "        <tr>\n",
              "            <th>State</th>\n",
              "            <th>GrandElectors</th>\n",
              "            <th>Population</th>\n",
              "            <th>ratio(x10^6)</th>\n",
              "            <th>cummulative_sum</th>\n",
              "        </tr>\n",
              "    </thead>\n",
              "    <tbody>\n",
              "        <tr>\n",
              "            <td>WYOMING</td>\n",
              "            <td>3</td>\n",
              "            <td>586107</td>\n",
              "            <td>5.0</td>\n",
              "            <td>3.0</td>\n",
              "        </tr>\n",
              "        <tr>\n",
              "            <td>ALASKA</td>\n",
              "            <td>3</td>\n",
              "            <td>738432</td>\n",
              "            <td>4.0</td>\n",
              "            <td>9.0</td>\n",
              "        </tr>\n",
              "        <tr>\n",
              "            <td>DC</td>\n",
              "            <td>3</td>\n",
              "            <td>672228</td>\n",
              "            <td>4.0</td>\n",
              "            <td>9.0</td>\n",
              "        </tr>\n",
              "        <tr>\n",
              "            <td>VERMONT</td>\n",
              "            <td>3</td>\n",
              "            <td>626042</td>\n",
              "            <td>4.0</td>\n",
              "            <td>9.0</td>\n",
              "        </tr>\n",
              "        <tr>\n",
              "            <td>DELAWARE</td>\n",
              "            <td>3</td>\n",
              "            <td>945934</td>\n",
              "            <td>3.0</td>\n",
              "            <td>21.0</td>\n",
              "        </tr>\n",
              "        <tr>\n",
              "            <td>MAINE</td>\n",
              "            <td>4</td>\n",
              "            <td>1329328</td>\n",
              "            <td>3.0</td>\n",
              "            <td>21.0</td>\n",
              "        </tr>\n",
              "        <tr>\n",
              "            <td>NEW HAMPSHIRE</td>\n",
              "            <td>4</td>\n",
              "            <td>1330608</td>\n",
              "            <td>3.0</td>\n",
              "            <td>21.0</td>\n",
              "        </tr>\n",
              "        <tr>\n",
              "            <td>NORTH DAKOTA</td>\n",
              "            <td>3</td>\n",
              "            <td>756927</td>\n",
              "            <td>3.0</td>\n",
              "            <td>21.0</td>\n",
              "        </tr>\n",
              "        <tr>\n",
              "            <td>RHODE ISLAND</td>\n",
              "            <td>4</td>\n",
              "            <td>1056298</td>\n",
              "            <td>3.0</td>\n",
              "            <td>21.0</td>\n",
              "        </tr>\n",
              "        <tr>\n",
              "            <td>SOUTH DAKOTA</td>\n",
              "            <td>3</td>\n",
              "            <td>858469</td>\n",
              "            <td>3.0</td>\n",
              "            <td>21.0</td>\n",
              "        </tr>\n",
              "        <tr>\n",
              "            <td>ARKANSAS</td>\n",
              "            <td>6</td>\n",
              "            <td>2978204</td>\n",
              "            <td>2.0</td>\n",
              "            <td>56.0</td>\n",
              "        </tr>\n",
              "        <tr>\n",
              "            <td>HAWAII</td>\n",
              "            <td>4</td>\n",
              "            <td>1431603</td>\n",
              "            <td>2.0</td>\n",
              "            <td>56.0</td>\n",
              "        </tr>\n",
              "        <tr>\n",
              "            <td>IDAHO</td>\n",
              "            <td>4</td>\n",
              "            <td>1654930</td>\n",
              "            <td>2.0</td>\n",
              "            <td>56.0</td>\n",
              "        </tr>\n",
              "        <tr>\n",
              "            <td>KANSAS</td>\n",
              "            <td>6</td>\n",
              "            <td>2911641</td>\n",
              "            <td>2.0</td>\n",
              "            <td>56.0</td>\n",
              "        </tr>\n",
              "        <tr>\n",
              "            <td>MISSISSIPPI</td>\n",
              "            <td>6</td>\n",
              "            <td>2992333</td>\n",
              "            <td>2.0</td>\n",
              "            <td>56.0</td>\n",
              "        </tr>\n",
              "        <tr>\n",
              "            <td>MONTANA</td>\n",
              "            <td>3</td>\n",
              "            <td>1032949</td>\n",
              "            <td>2.0</td>\n",
              "            <td>56.0</td>\n",
              "        </tr>\n",
              "        <tr>\n",
              "            <td>NEBRASKA</td>\n",
              "            <td>5</td>\n",
              "            <td>1896190</td>\n",
              "            <td>2.0</td>\n",
              "            <td>56.0</td>\n",
              "        </tr>\n",
              "        <tr>\n",
              "            <td>NEVADA</td>\n",
              "            <td>6</td>\n",
              "            <td>2890845</td>\n",
              "            <td>2.0</td>\n",
              "            <td>56.0</td>\n",
              "        </tr>\n",
              "        <tr>\n",
              "            <td>NEW MEXICO</td>\n",
              "            <td>5</td>\n",
              "            <td>2085109</td>\n",
              "            <td>2.0</td>\n",
              "            <td>56.0</td>\n",
              "        </tr>\n",
              "        <tr>\n",
              "            <td>UTAH</td>\n",
              "            <td>6</td>\n",
              "            <td>2995919</td>\n",
              "            <td>2.0</td>\n",
              "            <td>56.0</td>\n",
              "        </tr>\n",
              "        <tr>\n",
              "            <td>WEST VIRGINIA</td>\n",
              "            <td>5</td>\n",
              "            <td>1844128</td>\n",
              "            <td>2.0</td>\n",
              "            <td>56.0</td>\n",
              "        </tr>\n",
              "        <tr>\n",
              "            <td>ALABAMA</td>\n",
              "            <td>9</td>\n",
              "            <td>4858979</td>\n",
              "            <td>1.0</td>\n",
              "            <td>449.0</td>\n",
              "        </tr>\n",
              "        <tr>\n",
              "            <td>ARIZONA</td>\n",
              "            <td>11</td>\n",
              "            <td>6828065</td>\n",
              "            <td>1.0</td>\n",
              "            <td>449.0</td>\n",
              "        </tr>\n",
              "        <tr>\n",
              "            <td>CALIFORNIA</td>\n",
              "            <td>55</td>\n",
              "            <td>39144818</td>\n",
              "            <td>1.0</td>\n",
              "            <td>449.0</td>\n",
              "        </tr>\n",
              "        <tr>\n",
              "            <td>COLORADO</td>\n",
              "            <td>9</td>\n",
              "            <td>5456574</td>\n",
              "            <td>1.0</td>\n",
              "            <td>449.0</td>\n",
              "        </tr>\n",
              "        <tr>\n",
              "            <td>CONNECTICUT</td>\n",
              "            <td>7</td>\n",
              "            <td>3590886</td>\n",
              "            <td>1.0</td>\n",
              "            <td>449.0</td>\n",
              "        </tr>\n",
              "        <tr>\n",
              "            <td>FLORIDA</td>\n",
              "            <td>29</td>\n",
              "            <td>20271272</td>\n",
              "            <td>1.0</td>\n",
              "            <td>449.0</td>\n",
              "        </tr>\n",
              "        <tr>\n",
              "            <td>GEORGIA</td>\n",
              "            <td>16</td>\n",
              "            <td>10214860</td>\n",
              "            <td>1.0</td>\n",
              "            <td>449.0</td>\n",
              "        </tr>\n",
              "        <tr>\n",
              "            <td>ILLINOIS</td>\n",
              "            <td>20</td>\n",
              "            <td>12859995</td>\n",
              "            <td>1.0</td>\n",
              "            <td>449.0</td>\n",
              "        </tr>\n",
              "        <tr>\n",
              "            <td>INDIANA</td>\n",
              "            <td>11</td>\n",
              "            <td>6619680</td>\n",
              "            <td>1.0</td>\n",
              "            <td>449.0</td>\n",
              "        </tr>\n",
              "        <tr>\n",
              "            <td>IOWA</td>\n",
              "            <td>6</td>\n",
              "            <td>3123899</td>\n",
              "            <td>1.0</td>\n",
              "            <td>449.0</td>\n",
              "        </tr>\n",
              "        <tr>\n",
              "            <td>KENTUCKY</td>\n",
              "            <td>8</td>\n",
              "            <td>4425092</td>\n",
              "            <td>1.0</td>\n",
              "            <td>449.0</td>\n",
              "        </tr>\n",
              "        <tr>\n",
              "            <td>LOUISIANA</td>\n",
              "            <td>8</td>\n",
              "            <td>4670724</td>\n",
              "            <td>1.0</td>\n",
              "            <td>449.0</td>\n",
              "        </tr>\n",
              "        <tr>\n",
              "            <td>MARYLAND</td>\n",
              "            <td>10</td>\n",
              "            <td>6006401</td>\n",
              "            <td>1.0</td>\n",
              "            <td>449.0</td>\n",
              "        </tr>\n",
              "        <tr>\n",
              "            <td>MASSACHUSETTS</td>\n",
              "            <td>11</td>\n",
              "            <td>6794422</td>\n",
              "            <td>1.0</td>\n",
              "            <td>449.0</td>\n",
              "        </tr>\n",
              "        <tr>\n",
              "            <td>MICHIGAN</td>\n",
              "            <td>16</td>\n",
              "            <td>9922576</td>\n",
              "            <td>1.0</td>\n",
              "            <td>449.0</td>\n",
              "        </tr>\n",
              "        <tr>\n",
              "            <td>MINNESOTA</td>\n",
              "            <td>10</td>\n",
              "            <td>5489594</td>\n",
              "            <td>1.0</td>\n",
              "            <td>449.0</td>\n",
              "        </tr>\n",
              "        <tr>\n",
              "            <td>MISSOURI</td>\n",
              "            <td>10</td>\n",
              "            <td>6083672</td>\n",
              "            <td>1.0</td>\n",
              "            <td>449.0</td>\n",
              "        </tr>\n",
              "        <tr>\n",
              "            <td>NEW JERSEY</td>\n",
              "            <td>14</td>\n",
              "            <td>8958013</td>\n",
              "            <td>1.0</td>\n",
              "            <td>449.0</td>\n",
              "        </tr>\n",
              "        <tr>\n",
              "            <td>NEW YORK</td>\n",
              "            <td>29</td>\n",
              "            <td>19795791</td>\n",
              "            <td>1.0</td>\n",
              "            <td>449.0</td>\n",
              "        </tr>\n",
              "        <tr>\n",
              "            <td>NORTH CAROLINA</td>\n",
              "            <td>15</td>\n",
              "            <td>10042802</td>\n",
              "            <td>1.0</td>\n",
              "            <td>449.0</td>\n",
              "        </tr>\n",
              "        <tr>\n",
              "            <td>OHIO</td>\n",
              "            <td>18</td>\n",
              "            <td>11613423</td>\n",
              "            <td>1.0</td>\n",
              "            <td>449.0</td>\n",
              "        </tr>\n",
              "        <tr>\n",
              "            <td>OKLAHOMA</td>\n",
              "            <td>7</td>\n",
              "            <td>3911338</td>\n",
              "            <td>1.0</td>\n",
              "            <td>449.0</td>\n",
              "        </tr>\n",
              "        <tr>\n",
              "            <td>OREGON</td>\n",
              "            <td>7</td>\n",
              "            <td>4028977</td>\n",
              "            <td>1.0</td>\n",
              "            <td>449.0</td>\n",
              "        </tr>\n",
              "        <tr>\n",
              "            <td>PENNSYLVANIA</td>\n",
              "            <td>20</td>\n",
              "            <td>12802503</td>\n",
              "            <td>1.0</td>\n",
              "            <td>449.0</td>\n",
              "        </tr>\n",
              "        <tr>\n",
              "            <td>SOUTH CAROLINA</td>\n",
              "            <td>9</td>\n",
              "            <td>4896146</td>\n",
              "            <td>1.0</td>\n",
              "            <td>449.0</td>\n",
              "        </tr>\n",
              "        <tr>\n",
              "            <td>TENNESSEE</td>\n",
              "            <td>11</td>\n",
              "            <td>6600299</td>\n",
              "            <td>1.0</td>\n",
              "            <td>449.0</td>\n",
              "        </tr>\n",
              "        <tr>\n",
              "            <td>TEXAS</td>\n",
              "            <td>38</td>\n",
              "            <td>27469114</td>\n",
              "            <td>1.0</td>\n",
              "            <td>449.0</td>\n",
              "        </tr>\n",
              "        <tr>\n",
              "            <td>VIRGINIA</td>\n",
              "            <td>13</td>\n",
              "            <td>8382993</td>\n",
              "            <td>1.0</td>\n",
              "            <td>449.0</td>\n",
              "        </tr>\n",
              "        <tr>\n",
              "            <td>WASHINGTON</td>\n",
              "            <td>12</td>\n",
              "            <td>7170351</td>\n",
              "            <td>1.0</td>\n",
              "            <td>449.0</td>\n",
              "        </tr>\n",
              "        <tr>\n",
              "            <td>WISCONSIN</td>\n",
              "            <td>10</td>\n",
              "            <td>5771337</td>\n",
              "            <td>1.0</td>\n",
              "            <td>449.0</td>\n",
              "        </tr>\n",
              "    </tbody>\n",
              "</table>"
            ],
            "text/plain": [
              "[('WYOMING', 3, 586107, 5.0, 3.0),\n",
              " ('ALASKA', 3, 738432, 4.0, 9.0),\n",
              " ('DC', 3, 672228, 4.0, 9.0),\n",
              " ('VERMONT', 3, 626042, 4.0, 9.0),\n",
              " ('DELAWARE', 3, 945934, 3.0, 21.0),\n",
              " ('MAINE', 4, 1329328, 3.0, 21.0),\n",
              " ('NEW HAMPSHIRE', 4, 1330608, 3.0, 21.0),\n",
              " ('NORTH DAKOTA', 3, 756927, 3.0, 21.0),\n",
              " ('RHODE ISLAND', 4, 1056298, 3.0, 21.0),\n",
              " ('SOUTH DAKOTA', 3, 858469, 3.0, 21.0),\n",
              " ('ARKANSAS', 6, 2978204, 2.0, 56.0),\n",
              " ('HAWAII', 4, 1431603, 2.0, 56.0),\n",
              " ('IDAHO', 4, 1654930, 2.0, 56.0),\n",
              " ('KANSAS', 6, 2911641, 2.0, 56.0),\n",
              " ('MISSISSIPPI', 6, 2992333, 2.0, 56.0),\n",
              " ('MONTANA', 3, 1032949, 2.0, 56.0),\n",
              " ('NEBRASKA', 5, 1896190, 2.0, 56.0),\n",
              " ('NEVADA', 6, 2890845, 2.0, 56.0),\n",
              " ('NEW MEXICO', 5, 2085109, 2.0, 56.0),\n",
              " ('UTAH', 6, 2995919, 2.0, 56.0),\n",
              " ('WEST VIRGINIA', 5, 1844128, 2.0, 56.0),\n",
              " ('ALABAMA', 9, 4858979, 1.0, 449.0),\n",
              " ('ARIZONA', 11, 6828065, 1.0, 449.0),\n",
              " ('CALIFORNIA', 55, 39144818, 1.0, 449.0),\n",
              " ('COLORADO', 9, 5456574, 1.0, 449.0),\n",
              " ('CONNECTICUT', 7, 3590886, 1.0, 449.0),\n",
              " ('FLORIDA', 29, 20271272, 1.0, 449.0),\n",
              " ('GEORGIA', 16, 10214860, 1.0, 449.0),\n",
              " ('ILLINOIS', 20, 12859995, 1.0, 449.0),\n",
              " ('INDIANA', 11, 6619680, 1.0, 449.0),\n",
              " ('IOWA', 6, 3123899, 1.0, 449.0),\n",
              " ('KENTUCKY', 8, 4425092, 1.0, 449.0),\n",
              " ('LOUISIANA', 8, 4670724, 1.0, 449.0),\n",
              " ('MARYLAND', 10, 6006401, 1.0, 449.0),\n",
              " ('MASSACHUSETTS', 11, 6794422, 1.0, 449.0),\n",
              " ('MICHIGAN', 16, 9922576, 1.0, 449.0),\n",
              " ('MINNESOTA', 10, 5489594, 1.0, 449.0),\n",
              " ('MISSOURI', 10, 6083672, 1.0, 449.0),\n",
              " ('NEW JERSEY', 14, 8958013, 1.0, 449.0),\n",
              " ('NEW YORK', 29, 19795791, 1.0, 449.0),\n",
              " ('NORTH CAROLINA', 15, 10042802, 1.0, 449.0),\n",
              " ('OHIO', 18, 11613423, 1.0, 449.0),\n",
              " ('OKLAHOMA', 7, 3911338, 1.0, 449.0),\n",
              " ('OREGON', 7, 4028977, 1.0, 449.0),\n",
              " ('PENNSYLVANIA', 20, 12802503, 1.0, 449.0),\n",
              " ('SOUTH CAROLINA', 9, 4896146, 1.0, 449.0),\n",
              " ('TENNESSEE', 11, 6600299, 1.0, 449.0),\n",
              " ('TEXAS', 38, 27469114, 1.0, 449.0),\n",
              " ('VIRGINIA', 13, 8382993, 1.0, 449.0),\n",
              " ('WASHINGTON', 12, 7170351, 1.0, 449.0),\n",
              " ('WISCONSIN', 10, 5771337, 1.0, 449.0)]"
            ]
          },
          "metadata": {
            "tags": []
          },
          "execution_count": 590
        }
      ]
    },
    {
      "cell_type": "markdown",
      "metadata": {
        "id": "ugX2ObgPeM9t"
      },
      "source": [
        "**Computing the half total of GrandElectors overall(also known as threshold)**"
      ]
    },
    {
      "cell_type": "code",
      "metadata": {
        "colab": {
          "base_uri": "https://localhost:8080/",
          "height": 93
        },
        "id": "szqnY8rzdV6u",
        "outputId": "be16b619-13d0-4375-aee5-4d0ccf5942fd"
      },
      "source": [
        "%%sql\n",
        "SELECT SUM(GrandElectors)*0.5 AS \"Half sum of the total Grand Electors\" FROM FINAL"
      ],
      "execution_count": 596,
      "outputs": [
        {
          "output_type": "stream",
          "text": [
            " * sqlite://\n",
            "Done.\n"
          ],
          "name": "stdout"
        },
        {
          "output_type": "execute_result",
          "data": {
            "text/html": [
              "<table>\n",
              "    <thead>\n",
              "        <tr>\n",
              "            <th>Half sum of the total Grand Electors</th>\n",
              "        </tr>\n",
              "    </thead>\n",
              "    <tbody>\n",
              "        <tr>\n",
              "            <td>269.0</td>\n",
              "        </tr>\n",
              "    </tbody>\n",
              "</table>"
            ],
            "text/plain": [
              "[(269.0,)]"
            ]
          },
          "metadata": {
            "tags": []
          },
          "execution_count": 596
        }
      ]
    },
    {
      "cell_type": "markdown",
      "metadata": {
        "id": "LBAqW9Eaew8B"
      },
      "source": [
        "**Selecting all the states for which the running total is below or equal to the threshold.**"
      ]
    },
    {
      "cell_type": "code",
      "metadata": {
        "colab": {
          "base_uri": "https://localhost:8080/",
          "height": 501
        },
        "id": "LQUMJkE1dV4M",
        "outputId": "81dd8198-93f9-4fe3-e455-7f8ccc826587"
      },
      "source": [
        "%%sql\n",
        "SELECT * FROM final\n",
        "WHERE cummulative_sum <= (SELECT SUM(GrandElectors)*0.5 FROM FINAL);"
      ],
      "execution_count": 602,
      "outputs": [
        {
          "output_type": "stream",
          "text": [
            " * sqlite://\n",
            "Done.\n"
          ],
          "name": "stdout"
        },
        {
          "output_type": "execute_result",
          "data": {
            "text/html": [
              "<table>\n",
              "    <thead>\n",
              "        <tr>\n",
              "            <th>State</th>\n",
              "            <th>GrandElectors</th>\n",
              "            <th>Population</th>\n",
              "            <th>ratio(x10^6)</th>\n",
              "            <th>cummulative_sum</th>\n",
              "        </tr>\n",
              "    </thead>\n",
              "    <tbody>\n",
              "        <tr>\n",
              "            <td>WYOMING</td>\n",
              "            <td>3</td>\n",
              "            <td>586107</td>\n",
              "            <td>5.0</td>\n",
              "            <td>3.0</td>\n",
              "        </tr>\n",
              "        <tr>\n",
              "            <td>ALASKA</td>\n",
              "            <td>3</td>\n",
              "            <td>738432</td>\n",
              "            <td>4.0</td>\n",
              "            <td>9.0</td>\n",
              "        </tr>\n",
              "        <tr>\n",
              "            <td>DC</td>\n",
              "            <td>3</td>\n",
              "            <td>672228</td>\n",
              "            <td>4.0</td>\n",
              "            <td>9.0</td>\n",
              "        </tr>\n",
              "        <tr>\n",
              "            <td>VERMONT</td>\n",
              "            <td>3</td>\n",
              "            <td>626042</td>\n",
              "            <td>4.0</td>\n",
              "            <td>9.0</td>\n",
              "        </tr>\n",
              "        <tr>\n",
              "            <td>DELAWARE</td>\n",
              "            <td>3</td>\n",
              "            <td>945934</td>\n",
              "            <td>3.0</td>\n",
              "            <td>21.0</td>\n",
              "        </tr>\n",
              "        <tr>\n",
              "            <td>MAINE</td>\n",
              "            <td>4</td>\n",
              "            <td>1329328</td>\n",
              "            <td>3.0</td>\n",
              "            <td>21.0</td>\n",
              "        </tr>\n",
              "        <tr>\n",
              "            <td>NEW HAMPSHIRE</td>\n",
              "            <td>4</td>\n",
              "            <td>1330608</td>\n",
              "            <td>3.0</td>\n",
              "            <td>21.0</td>\n",
              "        </tr>\n",
              "        <tr>\n",
              "            <td>NORTH DAKOTA</td>\n",
              "            <td>3</td>\n",
              "            <td>756927</td>\n",
              "            <td>3.0</td>\n",
              "            <td>21.0</td>\n",
              "        </tr>\n",
              "        <tr>\n",
              "            <td>RHODE ISLAND</td>\n",
              "            <td>4</td>\n",
              "            <td>1056298</td>\n",
              "            <td>3.0</td>\n",
              "            <td>21.0</td>\n",
              "        </tr>\n",
              "        <tr>\n",
              "            <td>SOUTH DAKOTA</td>\n",
              "            <td>3</td>\n",
              "            <td>858469</td>\n",
              "            <td>3.0</td>\n",
              "            <td>21.0</td>\n",
              "        </tr>\n",
              "        <tr>\n",
              "            <td>ARKANSAS</td>\n",
              "            <td>6</td>\n",
              "            <td>2978204</td>\n",
              "            <td>2.0</td>\n",
              "            <td>56.0</td>\n",
              "        </tr>\n",
              "        <tr>\n",
              "            <td>HAWAII</td>\n",
              "            <td>4</td>\n",
              "            <td>1431603</td>\n",
              "            <td>2.0</td>\n",
              "            <td>56.0</td>\n",
              "        </tr>\n",
              "        <tr>\n",
              "            <td>IDAHO</td>\n",
              "            <td>4</td>\n",
              "            <td>1654930</td>\n",
              "            <td>2.0</td>\n",
              "            <td>56.0</td>\n",
              "        </tr>\n",
              "        <tr>\n",
              "            <td>KANSAS</td>\n",
              "            <td>6</td>\n",
              "            <td>2911641</td>\n",
              "            <td>2.0</td>\n",
              "            <td>56.0</td>\n",
              "        </tr>\n",
              "        <tr>\n",
              "            <td>MISSISSIPPI</td>\n",
              "            <td>6</td>\n",
              "            <td>2992333</td>\n",
              "            <td>2.0</td>\n",
              "            <td>56.0</td>\n",
              "        </tr>\n",
              "        <tr>\n",
              "            <td>MONTANA</td>\n",
              "            <td>3</td>\n",
              "            <td>1032949</td>\n",
              "            <td>2.0</td>\n",
              "            <td>56.0</td>\n",
              "        </tr>\n",
              "        <tr>\n",
              "            <td>NEBRASKA</td>\n",
              "            <td>5</td>\n",
              "            <td>1896190</td>\n",
              "            <td>2.0</td>\n",
              "            <td>56.0</td>\n",
              "        </tr>\n",
              "        <tr>\n",
              "            <td>NEVADA</td>\n",
              "            <td>6</td>\n",
              "            <td>2890845</td>\n",
              "            <td>2.0</td>\n",
              "            <td>56.0</td>\n",
              "        </tr>\n",
              "        <tr>\n",
              "            <td>NEW MEXICO</td>\n",
              "            <td>5</td>\n",
              "            <td>2085109</td>\n",
              "            <td>2.0</td>\n",
              "            <td>56.0</td>\n",
              "        </tr>\n",
              "        <tr>\n",
              "            <td>UTAH</td>\n",
              "            <td>6</td>\n",
              "            <td>2995919</td>\n",
              "            <td>2.0</td>\n",
              "            <td>56.0</td>\n",
              "        </tr>\n",
              "        <tr>\n",
              "            <td>WEST VIRGINIA</td>\n",
              "            <td>5</td>\n",
              "            <td>1844128</td>\n",
              "            <td>2.0</td>\n",
              "            <td>56.0</td>\n",
              "        </tr>\n",
              "    </tbody>\n",
              "</table>"
            ],
            "text/plain": [
              "[('WYOMING', 3, 586107, 5.0, 3.0),\n",
              " ('ALASKA', 3, 738432, 4.0, 9.0),\n",
              " ('DC', 3, 672228, 4.0, 9.0),\n",
              " ('VERMONT', 3, 626042, 4.0, 9.0),\n",
              " ('DELAWARE', 3, 945934, 3.0, 21.0),\n",
              " ('MAINE', 4, 1329328, 3.0, 21.0),\n",
              " ('NEW HAMPSHIRE', 4, 1330608, 3.0, 21.0),\n",
              " ('NORTH DAKOTA', 3, 756927, 3.0, 21.0),\n",
              " ('RHODE ISLAND', 4, 1056298, 3.0, 21.0),\n",
              " ('SOUTH DAKOTA', 3, 858469, 3.0, 21.0),\n",
              " ('ARKANSAS', 6, 2978204, 2.0, 56.0),\n",
              " ('HAWAII', 4, 1431603, 2.0, 56.0),\n",
              " ('IDAHO', 4, 1654930, 2.0, 56.0),\n",
              " ('KANSAS', 6, 2911641, 2.0, 56.0),\n",
              " ('MISSISSIPPI', 6, 2992333, 2.0, 56.0),\n",
              " ('MONTANA', 3, 1032949, 2.0, 56.0),\n",
              " ('NEBRASKA', 5, 1896190, 2.0, 56.0),\n",
              " ('NEVADA', 6, 2890845, 2.0, 56.0),\n",
              " ('NEW MEXICO', 5, 2085109, 2.0, 56.0),\n",
              " ('UTAH', 6, 2995919, 2.0, 56.0),\n",
              " ('WEST VIRGINIA', 5, 1844128, 2.0, 56.0)]"
            ]
          },
          "metadata": {
            "tags": []
          },
          "execution_count": 602
        }
      ]
    },
    {
      "cell_type": "code",
      "metadata": {
        "colab": {
          "base_uri": "https://localhost:8080/",
          "height": 93
        },
        "id": "zzE8thzZgTim",
        "outputId": "e9511fb9-c6be-4d27-a897-eeb60faf2c1e"
      },
      "source": [
        "# Determing the number of states to priotirise the elections in\n",
        "%%sql\n",
        "SELECT COUNT(State) FROM final\n",
        "WHERE cummulative_sum <= (SELECT SUM(GrandElectors)*0.5 FROM FINAL);"
      ],
      "execution_count": 605,
      "outputs": [
        {
          "output_type": "stream",
          "text": [
            " * sqlite://\n",
            "Done.\n"
          ],
          "name": "stdout"
        },
        {
          "output_type": "execute_result",
          "data": {
            "text/html": [
              "<table>\n",
              "    <thead>\n",
              "        <tr>\n",
              "            <th>COUNT(State)</th>\n",
              "        </tr>\n",
              "    </thead>\n",
              "    <tbody>\n",
              "        <tr>\n",
              "            <td>21</td>\n",
              "        </tr>\n",
              "    </tbody>\n",
              "</table>"
            ],
            "text/plain": [
              "[(21,)]"
            ]
          },
          "metadata": {
            "tags": []
          },
          "execution_count": 605
        }
      ]
    }
  ]
}